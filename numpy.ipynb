{
 "cells": [
  {
   "cell_type": "code",
   "execution_count": null,
   "id": "108cf6d6",
   "metadata": {},
   "outputs": [],
   "source": []
  },
  {
   "cell_type": "code",
   "execution_count": null,
   "id": "9fbaa0e6",
   "metadata": {},
   "outputs": [],
   "source": []
  },
  {
   "cell_type": "code",
   "execution_count": 4,
   "id": "fea043fa",
   "metadata": {},
   "outputs": [],
   "source": [
    "import numpy as np\n"
   ]
  },
  {
   "cell_type": "code",
   "execution_count": 2,
   "id": "41405cfa",
   "metadata": {},
   "outputs": [
    {
     "data": {
      "text/plain": [
       "array([1, 2, 3, 4, 5, 6])"
      ]
     },
     "execution_count": 2,
     "metadata": {},
     "output_type": "execute_result"
    }
   ],
   "source": [
    "import numpy as np\n",
    "a=[1,2,3,4,5,6]\n",
    "mya=np.array(a)\n",
    "mya\n"
   ]
  },
  {
   "cell_type": "code",
   "execution_count": 5,
   "id": "ad4f0e26",
   "metadata": {},
   "outputs": [
    {
     "data": {
      "text/plain": [
       "array([1, 2, 3, 4, 5, 6])"
      ]
     },
     "execution_count": 5,
     "metadata": {},
     "output_type": "execute_result"
    }
   ],
   "source": [
    "#second method\n",
    "myar=np.array([1,2,3,4,5,6])\n",
    "myar"
   ]
  },
  {
   "cell_type": "code",
   "execution_count": 6,
   "id": "fc88d9a1",
   "metadata": {},
   "outputs": [
    {
     "data": {
      "text/plain": [
       "array([1, 3, 5, 7, 8])"
      ]
     },
     "execution_count": 6,
     "metadata": {},
     "output_type": "execute_result"
    }
   ],
   "source": [
    "a=[1,3,5,7,8]\n",
    "myar=np.array(a)\n",
    "myar"
   ]
  },
  {
   "cell_type": "code",
   "execution_count": 8,
   "id": "fa937848",
   "metadata": {},
   "outputs": [
    {
     "data": {
      "text/plain": [
       "array([1, 3, 5, 7, 9])"
      ]
     },
     "execution_count": 8,
     "metadata": {},
     "output_type": "execute_result"
    }
   ],
   "source": [
    "#second method\n",
    "myarray=np.array([1,3,5,7,9])\n",
    "myarray"
   ]
  },
  {
   "cell_type": "code",
   "execution_count": 14,
   "id": "e01da0d2",
   "metadata": {},
   "outputs": [
    {
     "data": {
      "text/plain": [
       "array([ 3,  6,  9, 12, 15])"
      ]
     },
     "execution_count": 14,
     "metadata": {},
     "output_type": "execute_result"
    }
   ],
   "source": [
    "import numpy as np\n",
    "b=[3,6,9,12,15]\n",
    "mmyarr=np.array(b)\n",
    "mmyarr"
   ]
  },
  {
   "cell_type": "code",
   "execution_count": 15,
   "id": "03c5febc",
   "metadata": {},
   "outputs": [
    {
     "data": {
      "text/plain": [
       "array([ 3,  6,  9, 12, 15])"
      ]
     },
     "execution_count": 15,
     "metadata": {},
     "output_type": "execute_result"
    }
   ],
   "source": [
    "#second method\n",
    "mmyarr=np.array([3,6,9,12,15])\n",
    "mmyarr"
   ]
  },
  {
   "cell_type": "code",
   "execution_count": 17,
   "id": "8922870f",
   "metadata": {},
   "outputs": [
    {
     "data": {
      "text/plain": [
       "array([1, 2, 3, 4, 5, 6, 7, 8, 9])"
      ]
     },
     "execution_count": 17,
     "metadata": {},
     "output_type": "execute_result"
    }
   ],
   "source": [
    "c=[1,2,3,4,5,6,7,8,9]\n",
    "mmya=np.array(c)\n",
    "mmya"
   ]
  },
  {
   "cell_type": "code",
   "execution_count": 19,
   "id": "c103b741",
   "metadata": {},
   "outputs": [
    {
     "data": {
      "text/plain": [
       "array([ 1,  2,  3,  4,  5,  6,  7,  8,  9, 10])"
      ]
     },
     "execution_count": 19,
     "metadata": {},
     "output_type": "execute_result"
    }
   ],
   "source": [
    "#second method\n",
    "mmya=np.array([1,2,3,4,5,6,7,8,9,10])\n",
    "mmya"
   ]
  },
  {
   "cell_type": "code",
   "execution_count": 3,
   "id": "be7b0321",
   "metadata": {},
   "outputs": [
    {
     "name": "stdout",
     "output_type": "stream",
     "text": [
      "enre the size of array:5\n",
      "entre the value:1\n",
      "entre the value:2\n",
      "entre the value:3\n",
      "entre the value:4\n",
      "entre the value:5\n"
     ]
    },
    {
     "data": {
      "text/plain": [
       "array([1, 2, 3, 4, 5])"
      ]
     },
     "execution_count": 3,
     "metadata": {},
     "output_type": "execute_result"
    }
   ],
   "source": [
    "import numpy as np\n",
    "a=[]\n",
    "n=int(input(\"enre the size of array:\"))\n",
    "for i in range(n):\n",
    "    val=int(input(\"entre the value:\"))\n",
    "    a.append(val)\n",
    "myaar=np.array(a)\n",
    "myaar"
   ]
  },
  {
   "cell_type": "code",
   "execution_count": 4,
   "id": "8406fbae",
   "metadata": {},
   "outputs": [
    {
     "name": "stdout",
     "output_type": "stream",
     "text": [
      "entre the size of array:6\n",
      "entre the value:1\n",
      "entre the value:22\n",
      "entre the value:33\n",
      "entre the value:44\n",
      "entre the value:55\n",
      "entre the value:66\n"
     ]
    },
    {
     "data": {
      "text/plain": [
       "array([ 1, 22, 33, 44, 55, 66])"
      ]
     },
     "execution_count": 4,
     "metadata": {},
     "output_type": "execute_result"
    }
   ],
   "source": [
    "a=[]\n",
    "n=int(input(\"entre the size of array:\"))\n",
    "for i in range(n):\n",
    "    val=int(input(\"entre the value:\"))\n",
    "    a.append(val)\n",
    "myaa=np.array(a)\n",
    "myaa\n"
   ]
  },
  {
   "cell_type": "code",
   "execution_count": 7,
   "id": "73563d1f",
   "metadata": {},
   "outputs": [
    {
     "name": "stdout",
     "output_type": "stream",
     "text": [
      "entre the size of array:5\n",
      "entre the value:11\n",
      "entre the value:22\n",
      "entre the value:33\n",
      "entre the value:44\n",
      "entre the value:55\n"
     ]
    },
    {
     "data": {
      "text/plain": [
       "array([11, 22, 33, 44, 55])"
      ]
     },
     "execution_count": 7,
     "metadata": {},
     "output_type": "execute_result"
    }
   ],
   "source": [
    "a=[]\n",
    "x=int(input(\"entre the size of array:\"))\n",
    "for i in range(x):\n",
    "    val=int(input(\"entre the value:\"))\n",
    "    a.append(val)\n",
    "myaar=np.array(a)\n",
    "myaar"
   ]
  },
  {
   "cell_type": "code",
   "execution_count": 8,
   "id": "5c7cb8f3",
   "metadata": {},
   "outputs": [
    {
     "name": "stdout",
     "output_type": "stream",
     "text": [
      "entre the number the size of array:6\n",
      "entre the value:111\n",
      "entre the value:222\n",
      "entre the value:333\n",
      "entre the value:444\n",
      "entre the value:555\n",
      "entre the value:666\n"
     ]
    },
    {
     "data": {
      "text/plain": [
       "array([111, 222, 333, 444, 555, 666])"
      ]
     },
     "execution_count": 8,
     "metadata": {},
     "output_type": "execute_result"
    }
   ],
   "source": [
    "a=[]\n",
    "n=int(input(\"entre the number the size of array:\"))\n",
    "for i in range(n):\n",
    "    val=int(input(\"entre the value:\"))\n",
    "    a.append(val)\n",
    "myaar=np.array(a)\n",
    "myaar"
   ]
  },
  {
   "cell_type": "code",
   "execution_count": 14,
   "id": "16785d04",
   "metadata": {},
   "outputs": [
    {
     "data": {
      "text/plain": [
       "array([[1, 2, 3],\n",
       "       [1, 2, 3],\n",
       "       [1, 2, 3]])"
      ]
     },
     "execution_count": 14,
     "metadata": {},
     "output_type": "execute_result"
    }
   ],
   "source": [
    "#creating numpy(2 dimiension)\n",
    "import numpy as np\n",
    "d=[[1,2,3],[1,2,3],[1,2,3]]\n",
    "myarr=np.array(d)\n",
    "myarr"
   ]
  },
  {
   "cell_type": "code",
   "execution_count": 2,
   "id": "c02cc91d",
   "metadata": {},
   "outputs": [
    {
     "data": {
      "text/plain": [
       "array([[1, 2, 3, 4],\n",
       "       [3, 4, 5, 6],\n",
       "       [2, 3, 4, 5]])"
      ]
     },
     "execution_count": 2,
     "metadata": {},
     "output_type": "execute_result"
    }
   ],
   "source": [
    "#second method\n",
    "import numpy as np\n",
    "myaar=np.array([[1,2,3,4],[3,4,5,6],[2,3,4,5]])\n",
    "myaar"
   ]
  },
  {
   "cell_type": "code",
   "execution_count": 3,
   "id": "c3fa12ce",
   "metadata": {},
   "outputs": [
    {
     "data": {
      "text/plain": [
       "array([[1, 2, 3, 4],\n",
       "       [1, 2, 4, 5],\n",
       "       [1, 2, 3, 4]])"
      ]
     },
     "execution_count": 3,
     "metadata": {},
     "output_type": "execute_result"
    }
   ],
   "source": [
    "a=[[1,2,3,4],[1,2,4,5],[1,2,3,4]]\n",
    "myaar=np.array(a)\n",
    "myaar"
   ]
  },
  {
   "cell_type": "code",
   "execution_count": 5,
   "id": "2e04bc06",
   "metadata": {},
   "outputs": [
    {
     "data": {
      "text/plain": [
       "array([[1, 2, 3, 4],\n",
       "       [1, 2, 3, 4],\n",
       "       [1, 2, 3, 4]])"
      ]
     },
     "execution_count": 5,
     "metadata": {},
     "output_type": "execute_result"
    }
   ],
   "source": [
    "# second method\n",
    "myaar=np.array([[1,2,3,4],[1,2,3,4],[1,2,3,4]])\n",
    "myaar"
   ]
  },
  {
   "cell_type": "code",
   "execution_count": 8,
   "id": "44ae1e24",
   "metadata": {},
   "outputs": [
    {
     "name": "stdout",
     "output_type": "stream",
     "text": [
      "total dimensions= 2\n",
      "total size(row,coloum)= (3, 4)\n"
     ]
    }
   ],
   "source": [
    "print(\"total dimensions=\",myaar.ndim)\n",
    "print(\"total size(row,coloum)=\",myaar.shape)"
   ]
  },
  {
   "cell_type": "code",
   "execution_count": 10,
   "id": "ebe7a40b",
   "metadata": {},
   "outputs": [
    {
     "data": {
      "text/plain": [
       "array([[1, 2, 3, 4, 5],\n",
       "       [1, 2, 3, 4, 5],\n",
       "       [1, 2, 3, 4, 5]])"
      ]
     },
     "execution_count": 10,
     "metadata": {},
     "output_type": "execute_result"
    }
   ],
   "source": [
    "c=[[1,2,3,4,5],[1,2,3,4,5],[1,2,3,4,5]]\n",
    "myya=np.array(c)\n",
    "myya"
   ]
  },
  {
   "cell_type": "code",
   "execution_count": 11,
   "id": "fcf65158",
   "metadata": {},
   "outputs": [
    {
     "data": {
      "text/plain": [
       "array([[1, 2, 3, 4, 5],\n",
       "       [1, 2, 3, 4, 5],\n",
       "       [1, 2, 3, 4, 5]])"
      ]
     },
     "execution_count": 11,
     "metadata": {},
     "output_type": "execute_result"
    }
   ],
   "source": [
    "myaar=np.array([[1,2,3,4,5],[1,2,3,4,5],[1,2,3,4,5]])\n",
    "myaar"
   ]
  },
  {
   "cell_type": "code",
   "execution_count": 12,
   "id": "7b78b5d1",
   "metadata": {},
   "outputs": [
    {
     "name": "stdout",
     "output_type": "stream",
     "text": [
      "total dimesion= 2\n",
      "total size(row,coloum)= (3, 5)\n"
     ]
    }
   ],
   "source": [
    "print(\"total dimesion=\",myaar.ndim)\n",
    "print(\"total size(row,coloum)=\",myaar.shape)"
   ]
  },
  {
   "cell_type": "code",
   "execution_count": 13,
   "id": "d58fa6c6",
   "metadata": {},
   "outputs": [
    {
     "data": {
      "text/plain": [
       "array([[1, 2, 3, 4, 5],\n",
       "       [1, 2, 3, 4, 5],\n",
       "       [1, 2, 3, 4, 5]])"
      ]
     },
     "execution_count": 13,
     "metadata": {},
     "output_type": "execute_result"
    }
   ],
   "source": [
    "myaar"
   ]
  },
  {
   "cell_type": "code",
   "execution_count": 14,
   "id": "a65b99b4",
   "metadata": {},
   "outputs": [
    {
     "name": "stdout",
     "output_type": "stream",
     "text": [
      "total dimension= 2\n",
      "total size(row,coloum)= (3, 5)\n"
     ]
    }
   ],
   "source": [
    "print(\"total dimension=\",myaar.ndim)\n",
    "print(\"total size(row,coloum)=\",myaar.shape)"
   ]
  },
  {
   "cell_type": "code",
   "execution_count": 16,
   "id": "3ce7a09f",
   "metadata": {},
   "outputs": [
    {
     "data": {
      "text/plain": [
       "array([[1, 2, 3, 4, 5, 6],\n",
       "       [2, 3, 4, 5, 6, 7],\n",
       "       [1, 2, 3, 4, 5, 6]])"
      ]
     },
     "execution_count": 16,
     "metadata": {},
     "output_type": "execute_result"
    }
   ],
   "source": [
    "t=[[1,2,3,4,5,6],[2,3,4,5,6,7],[1,2,3,4,5,6]]\n",
    "myaar=np.array(t)\n",
    "myaar"
   ]
  },
  {
   "cell_type": "code",
   "execution_count": 17,
   "id": "5ad0db91",
   "metadata": {},
   "outputs": [
    {
     "name": "stdout",
     "output_type": "stream",
     "text": [
      "total dimension= 2\n",
      "total size= (3, 6)\n"
     ]
    }
   ],
   "source": [
    "myaar=np.array([[1,2,3,4,5,6],[3,4,5,6,7,8],[4,5,6,7,8,9]])\n",
    "myaar\n",
    "print(\"total dimension=\",myaar.ndim)\n",
    "print(\"total size=\",myaar.shape)"
   ]
  },
  {
   "cell_type": "code",
   "execution_count": 2,
   "id": "c8ba5e7e",
   "metadata": {},
   "outputs": [
    {
     "data": {
      "text/plain": [
       "array([0., 0., 0., 0., 0.])"
      ]
     },
     "execution_count": 2,
     "metadata": {},
     "output_type": "execute_result"
    }
   ],
   "source": [
    "#np.zeros() function\n",
    "import numpy as np\n",
    "arr= np.zeros(5)\n",
    "arr\n"
   ]
  },
  {
   "cell_type": "code",
   "execution_count": 3,
   "id": "e624b1e8",
   "metadata": {},
   "outputs": [
    {
     "data": {
      "text/plain": [
       "array([[0., 0., 0.],\n",
       "       [0., 0., 0.]])"
      ]
     },
     "execution_count": 3,
     "metadata": {},
     "output_type": "execute_result"
    }
   ],
   "source": [
    "arr=np.zeros((2,3))\n",
    "arr"
   ]
  },
  {
   "cell_type": "code",
   "execution_count": 5,
   "id": "a12cb671",
   "metadata": {},
   "outputs": [
    {
     "data": {
      "text/plain": [
       "array([[[0., 0., 0., 0.],\n",
       "        [0., 0., 0., 0.],\n",
       "        [0., 0., 0., 0.]],\n",
       "\n",
       "       [[0., 0., 0., 0.],\n",
       "        [0., 0., 0., 0.],\n",
       "        [0., 0., 0., 0.]]])"
      ]
     },
     "execution_count": 5,
     "metadata": {},
     "output_type": "execute_result"
    }
   ],
   "source": [
    "arr=np.zeros((2,3,4))\n",
    "arr"
   ]
  },
  {
   "cell_type": "code",
   "execution_count": 6,
   "id": "fb962c48",
   "metadata": {},
   "outputs": [
    {
     "data": {
      "text/plain": [
       "array([0., 0.])"
      ]
     },
     "execution_count": 6,
     "metadata": {},
     "output_type": "execute_result"
    }
   ],
   "source": [
    "arr=np.zeros(2)\n",
    "arr"
   ]
  },
  {
   "cell_type": "code",
   "execution_count": 17,
   "id": "85f2236c",
   "metadata": {},
   "outputs": [
    {
     "data": {
      "text/plain": [
       "array([[[0., 0., 0., 0.],\n",
       "        [0., 0., 0., 0.],\n",
       "        [0., 0., 0., 0.]],\n",
       "\n",
       "       [[0., 0., 0., 0.],\n",
       "        [0., 0., 0., 0.],\n",
       "        [0., 0., 0., 0.]]])"
      ]
     },
     "execution_count": 17,
     "metadata": {},
     "output_type": "execute_result"
    }
   ],
   "source": [
    "arr=np.zeros((2,3,4))\n",
    "arr\n"
   ]
  },
  {
   "cell_type": "code",
   "execution_count": 18,
   "id": "6171d1fb",
   "metadata": {},
   "outputs": [
    {
     "data": {
      "text/plain": [
       "array([[[[0., 0., 0., 0., 0.],\n",
       "         [0., 0., 0., 0., 0.],\n",
       "         [0., 0., 0., 0., 0.],\n",
       "         [0., 0., 0., 0., 0.]],\n",
       "\n",
       "        [[0., 0., 0., 0., 0.],\n",
       "         [0., 0., 0., 0., 0.],\n",
       "         [0., 0., 0., 0., 0.],\n",
       "         [0., 0., 0., 0., 0.]],\n",
       "\n",
       "        [[0., 0., 0., 0., 0.],\n",
       "         [0., 0., 0., 0., 0.],\n",
       "         [0., 0., 0., 0., 0.],\n",
       "         [0., 0., 0., 0., 0.]]],\n",
       "\n",
       "\n",
       "       [[[0., 0., 0., 0., 0.],\n",
       "         [0., 0., 0., 0., 0.],\n",
       "         [0., 0., 0., 0., 0.],\n",
       "         [0., 0., 0., 0., 0.]],\n",
       "\n",
       "        [[0., 0., 0., 0., 0.],\n",
       "         [0., 0., 0., 0., 0.],\n",
       "         [0., 0., 0., 0., 0.],\n",
       "         [0., 0., 0., 0., 0.]],\n",
       "\n",
       "        [[0., 0., 0., 0., 0.],\n",
       "         [0., 0., 0., 0., 0.],\n",
       "         [0., 0., 0., 0., 0.],\n",
       "         [0., 0., 0., 0., 0.]]]])"
      ]
     },
     "execution_count": 18,
     "metadata": {},
     "output_type": "execute_result"
    }
   ],
   "source": [
    "arr=np.zeros((2,3,4,5))\n",
    "arr"
   ]
  },
  {
   "cell_type": "code",
   "execution_count": 9,
   "id": "cc12370b",
   "metadata": {},
   "outputs": [
    {
     "data": {
      "text/plain": [
       "array([[0., 0., 0.],\n",
       "       [0., 0., 0.]])"
      ]
     },
     "execution_count": 9,
     "metadata": {},
     "output_type": "execute_result"
    }
   ],
   "source": [
    "arr=np.zeros((2,3))\n",
    "arr"
   ]
  },
  {
   "cell_type": "code",
   "execution_count": 11,
   "id": "3deee7cf",
   "metadata": {},
   "outputs": [
    {
     "data": {
      "text/plain": [
       "array([1., 1., 1., 1., 1.])"
      ]
     },
     "execution_count": 11,
     "metadata": {},
     "output_type": "execute_result"
    }
   ],
   "source": [
    "#np.ones() functio0n\n",
    "srr=np.ones(5)\n",
    "srr"
   ]
  },
  {
   "cell_type": "code",
   "execution_count": 12,
   "id": "4116e035",
   "metadata": {},
   "outputs": [
    {
     "data": {
      "text/plain": [
       "array([[1., 1., 1.],\n",
       "       [1., 1., 1.]])"
      ]
     },
     "execution_count": 12,
     "metadata": {},
     "output_type": "execute_result"
    }
   ],
   "source": [
    "arr=np.ones((2,3))\n",
    "arr"
   ]
  },
  {
   "cell_type": "code",
   "execution_count": 13,
   "id": "0b2e00c4",
   "metadata": {},
   "outputs": [
    {
     "data": {
      "text/plain": [
       "array([[[1., 1., 1., 1.],\n",
       "        [1., 1., 1., 1.],\n",
       "        [1., 1., 1., 1.]],\n",
       "\n",
       "       [[1., 1., 1., 1.],\n",
       "        [1., 1., 1., 1.],\n",
       "        [1., 1., 1., 1.]]])"
      ]
     },
     "execution_count": 13,
     "metadata": {},
     "output_type": "execute_result"
    }
   ],
   "source": [
    "arr=np.ones((2,3,4))\n",
    "arr"
   ]
  },
  {
   "cell_type": "code",
   "execution_count": 14,
   "id": "2a5b4858",
   "metadata": {},
   "outputs": [
    {
     "data": {
      "text/plain": [
       "array([[1., 0., 0.],\n",
       "       [0., 1., 0.],\n",
       "       [0., 0., 1.]])"
      ]
     },
     "execution_count": 14,
     "metadata": {},
     "output_type": "execute_result"
    }
   ],
   "source": [
    "#np.eye() function\n",
    "arr=np.eye(3)\n",
    "arr"
   ]
  },
  {
   "cell_type": "code",
   "execution_count": 16,
   "id": "6272ca5e",
   "metadata": {},
   "outputs": [
    {
     "data": {
      "text/plain": [
       "array([[1., 0., 0.],\n",
       "       [0., 1., 0.]])"
      ]
     },
     "execution_count": 16,
     "metadata": {},
     "output_type": "execute_result"
    }
   ],
   "source": [
    "arr=np.eye(2,3)\n",
    "arr"
   ]
  },
  {
   "cell_type": "code",
   "execution_count": 21,
   "id": "14047c47",
   "metadata": {},
   "outputs": [
    {
     "data": {
      "text/plain": [
       "array([[1., 0., 0.],\n",
       "       [0., 1., 0.]])"
      ]
     },
     "execution_count": 21,
     "metadata": {},
     "output_type": "execute_result"
    }
   ],
   "source": [
    "arr=np.eye(2,3)\n",
    "arr"
   ]
  },
  {
   "cell_type": "code",
   "execution_count": 22,
   "id": "51e84d83",
   "metadata": {},
   "outputs": [
    {
     "data": {
      "text/plain": [
       "array([[2]])"
      ]
     },
     "execution_count": 22,
     "metadata": {},
     "output_type": "execute_result"
    }
   ],
   "source": [
    "# np.diag()function\n",
    "arr=np.diag([2])\n",
    "arr"
   ]
  },
  {
   "cell_type": "code",
   "execution_count": 23,
   "id": "b4791d07",
   "metadata": {},
   "outputs": [
    {
     "data": {
      "text/plain": [
       "array([[2, 0],\n",
       "       [0, 3]])"
      ]
     },
     "execution_count": 23,
     "metadata": {},
     "output_type": "execute_result"
    }
   ],
   "source": [
    "arr=np.diag([2,3])\n",
    "arr"
   ]
  },
  {
   "cell_type": "code",
   "execution_count": 25,
   "id": "28489c8f",
   "metadata": {},
   "outputs": [
    {
     "data": {
      "text/plain": [
       "array([[2, 0, 0],\n",
       "       [0, 3, 0],\n",
       "       [0, 0, 4]])"
      ]
     },
     "execution_count": 25,
     "metadata": {},
     "output_type": "execute_result"
    }
   ],
   "source": [
    "arr=np.diag([2,3,4])\n",
    "arr"
   ]
  },
  {
   "cell_type": "code",
   "execution_count": 26,
   "id": "41fd3fe2",
   "metadata": {},
   "outputs": [
    {
     "data": {
      "text/plain": [
       "array([[2, 0, 0, 0],\n",
       "       [0, 3, 0, 0],\n",
       "       [0, 0, 4, 0],\n",
       "       [0, 0, 0, 5]])"
      ]
     },
     "execution_count": 26,
     "metadata": {},
     "output_type": "execute_result"
    }
   ],
   "source": [
    "arr=np.diag([2,3,4,5])\n",
    "arr"
   ]
  },
  {
   "cell_type": "code",
   "execution_count": 27,
   "id": "ad83ca25",
   "metadata": {},
   "outputs": [
    {
     "data": {
      "text/plain": [
       "array([[2, 0, 0, 0, 0],\n",
       "       [0, 3, 0, 0, 0],\n",
       "       [0, 0, 4, 0, 0],\n",
       "       [0, 0, 0, 5, 0],\n",
       "       [0, 0, 0, 0, 6]])"
      ]
     },
     "execution_count": 27,
     "metadata": {},
     "output_type": "execute_result"
    }
   ],
   "source": [
    "arr=np.diag([2,3,4,5,6])\n",
    "arr"
   ]
  },
  {
   "cell_type": "code",
   "execution_count": 29,
   "id": "8f50dc8c",
   "metadata": {},
   "outputs": [
    {
     "data": {
      "text/plain": [
       "array([2, 3, 4, 5, 6])"
      ]
     },
     "execution_count": 29,
     "metadata": {},
     "output_type": "execute_result"
    }
   ],
   "source": [
    "# serach diag function\n",
    "arr=np.diag([2,3,4,5,6])\n",
    "np.diag(arr)\n"
   ]
  },
  {
   "cell_type": "code",
   "execution_count": 30,
   "id": "7eec427f",
   "metadata": {},
   "outputs": [
    {
     "data": {
      "text/plain": [
       "array([2, 3, 4, 5])"
      ]
     },
     "execution_count": 30,
     "metadata": {},
     "output_type": "execute_result"
    }
   ],
   "source": [
    "arr=np.diag([2,3,4,5])\n",
    "np.diag(arr)"
   ]
  },
  {
   "cell_type": "code",
   "execution_count": 31,
   "id": "46a826c2",
   "metadata": {},
   "outputs": [
    {
     "data": {
      "text/plain": [
       "array([2, 3, 4])"
      ]
     },
     "execution_count": 31,
     "metadata": {},
     "output_type": "execute_result"
    }
   ],
   "source": [
    "arr=np.diag([2,3,4])\n",
    "np.diag(arr)\n"
   ]
  },
  {
   "cell_type": "code",
   "execution_count": 46,
   "id": "ad9d1bc5",
   "metadata": {},
   "outputs": [
    {
     "data": {
      "text/plain": [
       "array([3, 8, 7])"
      ]
     },
     "execution_count": 46,
     "metadata": {},
     "output_type": "execute_result"
    }
   ],
   "source": [
    "# np.random.randint() fuction\n",
    "arr=np.random.randint(1,10,3)\n",
    "arr"
   ]
  },
  {
   "cell_type": "code",
   "execution_count": 62,
   "id": "592ee908",
   "metadata": {},
   "outputs": [
    {
     "data": {
      "text/plain": [
       "array([16, 17,  5, 11])"
      ]
     },
     "execution_count": 62,
     "metadata": {},
     "output_type": "execute_result"
    }
   ],
   "source": [
    "arr=np.random.randint(1,20,4)\n",
    "arr"
   ]
  },
  {
   "cell_type": "code",
   "execution_count": 73,
   "id": "a6791cb1",
   "metadata": {},
   "outputs": [
    {
     "data": {
      "text/plain": [
       "array([34, 15, 71, 45, 32])"
      ]
     },
     "execution_count": 73,
     "metadata": {},
     "output_type": "execute_result"
    }
   ],
   "source": [
    "arr=np.random.randint(1,100,5)\n",
    "arr\n"
   ]
  },
  {
   "cell_type": "code",
   "execution_count": 86,
   "id": "f6e71a19",
   "metadata": {},
   "outputs": [
    {
     "data": {
      "text/plain": [
       "array([2, 4, 2])"
      ]
     },
     "execution_count": 86,
     "metadata": {},
     "output_type": "execute_result"
    }
   ],
   "source": [
    "arr=np.random.randint(1,10,3)\n",
    "arr"
   ]
  },
  {
   "cell_type": "code",
   "execution_count": 93,
   "id": "13305c99",
   "metadata": {},
   "outputs": [
    {
     "data": {
      "text/plain": [
       "array([102,  90, 112])"
      ]
     },
     "execution_count": 93,
     "metadata": {},
     "output_type": "execute_result"
    }
   ],
   "source": [
    "arr=np.random.randint(1,200,3)\n",
    "arr"
   ]
  },
  {
   "cell_type": "code",
   "execution_count": 94,
   "id": "d2e0a781",
   "metadata": {},
   "outputs": [
    {
     "data": {
      "text/plain": [
       "array([0.21530683, 0.0499119 , 0.81778979, 0.39768589, 0.67731794])"
      ]
     },
     "execution_count": 94,
     "metadata": {},
     "output_type": "execute_result"
    }
   ],
   "source": [
    "# np.random.rand() function\n",
    "arr=np.random.rand(5)\n",
    "arr"
   ]
  },
  {
   "cell_type": "code",
   "execution_count": 95,
   "id": "656a5acf",
   "metadata": {},
   "outputs": [
    {
     "data": {
      "text/plain": [
       "array([0.76924863])"
      ]
     },
     "execution_count": 95,
     "metadata": {},
     "output_type": "execute_result"
    }
   ],
   "source": [
    "arr=np.random.rand(1)\n",
    "arr"
   ]
  },
  {
   "cell_type": "code",
   "execution_count": 96,
   "id": "c5190af4",
   "metadata": {},
   "outputs": [
    {
     "data": {
      "text/plain": [
       "array([0.37825187, 0.48965112])"
      ]
     },
     "execution_count": 96,
     "metadata": {},
     "output_type": "execute_result"
    }
   ],
   "source": [
    "arr=np.random.rand(2)\n",
    "arr"
   ]
  },
  {
   "cell_type": "code",
   "execution_count": 98,
   "id": "5da349de",
   "metadata": {},
   "outputs": [
    {
     "data": {
      "text/plain": [
       "array([0.71711277, 0.36543753, 0.20895175])"
      ]
     },
     "execution_count": 98,
     "metadata": {},
     "output_type": "execute_result"
    }
   ],
   "source": [
    "arr=np.random.rand(3)\n",
    "arr"
   ]
  },
  {
   "cell_type": "code",
   "execution_count": 99,
   "id": "19209d9d",
   "metadata": {},
   "outputs": [
    {
     "data": {
      "text/plain": [
       "array([0.64105349, 0.35802651, 0.37563514])"
      ]
     },
     "execution_count": 99,
     "metadata": {},
     "output_type": "execute_result"
    }
   ],
   "source": [
    "arr=np.random.rand(3)\n",
    "arr"
   ]
  },
  {
   "cell_type": "code",
   "execution_count": 100,
   "id": "c2dd3377",
   "metadata": {},
   "outputs": [
    {
     "data": {
      "text/plain": [
       "array([0.56651904, 0.97268165, 0.48397482, 0.60213093])"
      ]
     },
     "execution_count": 100,
     "metadata": {},
     "output_type": "execute_result"
    }
   ],
   "source": [
    "arr=np.random.rand(4)\n",
    "arr"
   ]
  },
  {
   "cell_type": "code",
   "execution_count": 101,
   "id": "f272a657",
   "metadata": {},
   "outputs": [
    {
     "data": {
      "text/plain": [
       "array([[0.24146737, 0.40812946, 0.12107611],\n",
       "       [0.44785698, 0.87371192, 0.85220133]])"
      ]
     },
     "execution_count": 101,
     "metadata": {},
     "output_type": "execute_result"
    }
   ],
   "source": [
    "arr=np.random.rand(2,3)\n",
    "arr"
   ]
  },
  {
   "cell_type": "code",
   "execution_count": 102,
   "id": "bc3e2d34",
   "metadata": {},
   "outputs": [
    {
     "data": {
      "text/plain": [
       "array([[0.17784365, 0.15081239, 0.55576277],\n",
       "       [0.66771943, 0.36576623, 0.48071868],\n",
       "       [0.58576917, 0.34166534, 0.86390852]])"
      ]
     },
     "execution_count": 102,
     "metadata": {},
     "output_type": "execute_result"
    }
   ],
   "source": [
    "arr=np.random.rand(3,3)\n",
    "arr"
   ]
  },
  {
   "cell_type": "code",
   "execution_count": 103,
   "id": "b7a9b32e",
   "metadata": {},
   "outputs": [
    {
     "data": {
      "text/plain": [
       "array([[[0.95673969, 0.73100859, 0.34710121, 0.33671841],\n",
       "        [0.24367283, 0.01174093, 0.01470177, 0.30404593],\n",
       "        [0.13050558, 0.82830487, 0.9140606 , 0.57218193]],\n",
       "\n",
       "       [[0.99704522, 0.55969994, 0.63442917, 0.27365717],\n",
       "        [0.6492664 , 0.29084954, 0.88668253, 0.93158406],\n",
       "        [0.46898951, 0.49889329, 0.05596526, 0.15196019]]])"
      ]
     },
     "execution_count": 103,
     "metadata": {},
     "output_type": "execute_result"
    }
   ],
   "source": [
    "arr=np.random.rand(2,3,4)\n",
    "arr"
   ]
  },
  {
   "cell_type": "code",
   "execution_count": 104,
   "id": "2d285577",
   "metadata": {},
   "outputs": [
    {
     "data": {
      "text/plain": [
       "array([[[[0.4601971 , 0.24790901, 0.86591722, 0.13632984, 0.48793406],\n",
       "         [0.41178393, 0.13852284, 0.67712703, 0.16526136, 0.31531953],\n",
       "         [0.14286408, 0.9973655 , 0.63636693, 0.21339057, 0.21627   ],\n",
       "         [0.86477026, 0.16192896, 0.09832471, 0.81261239, 0.791088  ]],\n",
       "\n",
       "        [[0.63239775, 0.05591995, 0.46027618, 0.42530311, 0.49352903],\n",
       "         [0.73187742, 0.01798488, 0.40167323, 0.50414963, 0.32187739],\n",
       "         [0.1910946 , 0.78289429, 0.84242333, 0.40778031, 0.21367322],\n",
       "         [0.53741508, 0.8311511 , 0.32928022, 0.71367516, 0.28679119]],\n",
       "\n",
       "        [[0.82470547, 0.30188793, 0.67477077, 0.46173307, 0.17962937],\n",
       "         [0.00530446, 0.24156456, 0.16253459, 0.88430303, 0.65004727],\n",
       "         [0.73988585, 0.10271245, 0.67705822, 0.05210445, 0.26164516],\n",
       "         [0.60309562, 0.63805233, 0.80485344, 0.44742337, 0.96746442]]],\n",
       "\n",
       "\n",
       "       [[[0.61913085, 0.19179826, 0.17950973, 0.51224419, 0.6622814 ],\n",
       "         [0.15157156, 0.88224636, 0.17108459, 0.45728987, 0.84411973],\n",
       "         [0.42730385, 0.44208449, 0.53181226, 0.69063564, 0.66177784],\n",
       "         [0.54867209, 0.63742841, 0.72371955, 0.33908254, 0.27544083]],\n",
       "\n",
       "        [[0.52793528, 0.66759229, 0.86392095, 0.79082415, 0.01407824],\n",
       "         [0.65944215, 0.16418508, 0.44382074, 0.69470766, 0.34195894],\n",
       "         [0.14262535, 0.71038652, 0.7225533 , 0.99548707, 0.17030872],\n",
       "         [0.46348368, 0.50099401, 0.99197614, 0.23499507, 0.28087652]],\n",
       "\n",
       "        [[0.37886215, 0.42898928, 0.44320532, 0.22453474, 0.91708263],\n",
       "         [0.81765905, 0.05643145, 0.57789904, 0.7314752 , 0.89661039],\n",
       "         [0.66565955, 0.36946128, 0.03968512, 0.22069783, 0.17276276],\n",
       "         [0.04783398, 0.34535169, 0.28402936, 0.79298755, 0.83236911]]]])"
      ]
     },
     "execution_count": 104,
     "metadata": {},
     "output_type": "execute_result"
    }
   ],
   "source": [
    "arr=np.random.rand(2,3,4,5)\n",
    "arr"
   ]
  },
  {
   "cell_type": "code",
   "execution_count": 105,
   "id": "0dabf9c3",
   "metadata": {},
   "outputs": [
    {
     "data": {
      "text/plain": [
       "array([-0.27566017,  0.66869324,  0.74717376, -1.96610312,  0.17735072])"
      ]
     },
     "execution_count": 105,
     "metadata": {},
     "output_type": "execute_result"
    }
   ],
   "source": [
    "# np.random.randn() function\n",
    "arr=np.random.randn(5)\n",
    "arr"
   ]
  },
  {
   "cell_type": "code",
   "execution_count": 106,
   "id": "94a10cb7",
   "metadata": {},
   "outputs": [
    {
     "data": {
      "text/plain": [
       "array([[-1.17895651, -0.07417857,  0.35253407],\n",
       "       [-0.4738399 ,  0.76903781,  1.5319494 ]])"
      ]
     },
     "execution_count": 106,
     "metadata": {},
     "output_type": "execute_result"
    }
   ],
   "source": [
    "arr=np.random.randn(2,3)\n",
    "arr"
   ]
  },
  {
   "cell_type": "code",
   "execution_count": 107,
   "id": "287def7e",
   "metadata": {},
   "outputs": [
    {
     "data": {
      "text/plain": [
       "array([[[-1.08780576,  0.04544624,  1.28648777,  0.3562246 ],\n",
       "        [ 0.98025666,  1.51052538, -1.12370755, -2.01186491],\n",
       "        [-0.50078759, -0.20806393, -0.89350454,  0.05090007]],\n",
       "\n",
       "       [[ 2.77683528, -1.3292314 ,  0.36635138,  1.82984644],\n",
       "        [ 0.14346609,  1.27850549, -0.82297814,  1.52699327],\n",
       "        [ 1.39290264, -1.59385533, -0.19289421,  0.84717039]]])"
      ]
     },
     "execution_count": 107,
     "metadata": {},
     "output_type": "execute_result"
    }
   ],
   "source": [
    "arr=np.random.randn(2,3,4)\n",
    "arr"
   ]
  },
  {
   "cell_type": "code",
   "execution_count": 108,
   "id": "769bc97a",
   "metadata": {},
   "outputs": [
    {
     "data": {
      "text/plain": [
       "array([[[[ 1.66415823e+00,  9.16436396e-01, -1.54693280e+00,\n",
       "          -9.71106454e-01,  1.36456697e+00],\n",
       "         [-4.69481370e-01,  2.37437791e-01, -1.14882747e+00,\n",
       "           7.97137717e-01, -3.01603693e-01],\n",
       "         [ 6.58071726e-01, -1.71650330e+00, -7.76534268e-01,\n",
       "           2.98198797e-01,  5.24137834e-01],\n",
       "         [-9.69616278e-02, -4.88820822e-01,  3.41274065e-02,\n",
       "           1.86948394e+00, -9.88512448e-01]],\n",
       "\n",
       "        [[ 4.53327914e-01,  6.69841488e-01, -5.47269896e-04,\n",
       "           8.34166279e-01, -7.96438170e-01],\n",
       "         [ 3.56332947e-01,  1.87526563e+00,  1.34519147e+00,\n",
       "          -2.68940283e-01,  4.16190639e-02],\n",
       "         [-4.44662894e-01, -8.64075750e-01,  6.70542214e-01,\n",
       "          -7.02467548e-01,  1.58983089e+00],\n",
       "         [-1.20152432e+00, -7.96092904e-01, -9.32378528e-01,\n",
       "           1.42581337e-01,  3.06394672e-01]],\n",
       "\n",
       "        [[ 1.98303145e-01,  1.41255544e+00, -3.47235514e-01,\n",
       "           1.22090334e+00, -9.77068400e-01],\n",
       "         [-1.27172032e+00,  8.01411798e-01, -7.02629150e-01,\n",
       "          -1.05360229e+00,  2.17675348e+00],\n",
       "         [ 3.86203533e-01,  1.35599281e+00,  6.71231195e-01,\n",
       "          -7.17169806e-01, -8.99931930e-01],\n",
       "         [ 3.40511901e-01, -1.60834268e+00,  6.65917327e-01,\n",
       "          -1.20261176e+00, -1.10282212e+00]]],\n",
       "\n",
       "\n",
       "       [[[ 1.56125881e+00,  8.11388523e-01, -8.16507260e-01,\n",
       "           7.93769423e-01,  8.35910442e-01],\n",
       "         [ 8.24665963e-01, -7.53298287e-02, -8.41092392e-01,\n",
       "          -1.43002892e+00, -5.57628992e-01],\n",
       "         [ 1.95325103e+00, -2.10470300e+00, -1.14136277e+00,\n",
       "          -2.36263099e+00, -1.03842728e-01],\n",
       "         [ 1.20802647e-01, -8.84035800e-01,  5.68577812e-01,\n",
       "           7.66481466e-01,  6.44023958e-01]],\n",
       "\n",
       "        [[ 2.00584140e-01, -7.27666181e-01,  1.06807759e+00,\n",
       "          -6.54094207e-01,  1.38574818e+00],\n",
       "         [-2.55662350e+00, -9.54271103e-01,  1.17054311e+00,\n",
       "           4.52619463e-02,  4.41299308e-01],\n",
       "         [-2.91691762e-01, -1.46655577e+00, -2.53032333e-01,\n",
       "           2.05170090e+00, -1.26352098e+00],\n",
       "         [-1.76195570e+00, -4.78704288e-01,  3.44656335e-01,\n",
       "           8.00271124e-01,  9.08264899e-01]],\n",
       "\n",
       "        [[ 3.21415470e-01, -1.73878700e+00, -1.70166639e+00,\n",
       "           1.18376010e-01, -3.43573108e-01],\n",
       "         [ 5.78416430e-02, -3.07876827e-01,  8.44950923e-01,\n",
       "          -2.29170853e-01, -2.06876236e-01],\n",
       "         [-1.57316335e-01,  2.00665126e+00, -8.06393874e-01,\n",
       "          -3.70747924e-01,  1.33269764e+00],\n",
       "         [ 6.88907189e-01,  1.03009160e+00,  2.17523900e+00,\n",
       "           3.79725386e-01,  6.84600590e-01]]]])"
      ]
     },
     "execution_count": 108,
     "metadata": {},
     "output_type": "execute_result"
    }
   ],
   "source": [
    "arr=np.random.randn(2,3,4,5)\n",
    "arr"
   ]
  },
  {
   "cell_type": "code",
   "execution_count": 2,
   "id": "cd693785",
   "metadata": {},
   "outputs": [
    {
     "name": "stdout",
     "output_type": "stream",
     "text": [
      "enttre the size of number?4\n",
      "entre the value1\n",
      "entre the value2\n",
      "entre the value3\n",
      "entre the value4\n",
      "1\n",
      "2\n",
      "3\n",
      "4\n"
     ]
    }
   ],
   "source": [
    "import numpy as np\n",
    "a=[]\n",
    "size=int(input(\"enttre the size of number?\"))\n",
    "for i in range(size):\n",
    "    val=int(input(\"entre the value\"))\n",
    "    a.append(val)\n",
    "arr=np.array(a)\n",
    "for i in range(arr.size):\n",
    "    print(arr[i])\n",
    "    arr.size\n",
    "    "
   ]
  },
  {
   "cell_type": "code",
   "execution_count": 4,
   "id": "2a11e97c",
   "metadata": {},
   "outputs": [
    {
     "ename": "SyntaxError",
     "evalue": "invalid syntax (3675447961.py, line 6)",
     "output_type": "error",
     "traceback": [
      "\u001b[1;36m  Input \u001b[1;32mIn [4]\u001b[1;36m\u001b[0m\n\u001b[1;33m    a.append(val)\u001b[0m\n\u001b[1;37m    ^\u001b[0m\n\u001b[1;31mSyntaxError\u001b[0m\u001b[1;31m:\u001b[0m invalid syntax\n"
     ]
    }
   ],
   "source": [
    "import numpy as np\n",
    "a=[]\n",
    "size=int(input(\"entre the number of size:\"))\n",
    "for i in range(size):\n",
    "    val=int(input(\"entre the value:\")\n",
    "            a.append(val)\n",
    "arr=np.array(a)\n",
    "for i in range (arr.size):\n",
    "            print(arr[i])\n",
    "            arr.size\n",
    "            \n",
    "            \n",
    "            \n",
    "    \n",
    "            \n",
    "            "
   ]
  },
  {
   "cell_type": "code",
   "execution_count": null,
   "id": "3a2613be",
   "metadata": {},
   "outputs": [],
   "source": []
  },
  {
   "cell_type": "code",
   "execution_count": null,
   "id": "74d2bcbb",
   "metadata": {},
   "outputs": [],
   "source": []
  },
  {
   "cell_type": "code",
   "execution_count": null,
   "id": "83d03b83",
   "metadata": {},
   "outputs": [],
   "source": []
  },
  {
   "cell_type": "code",
   "execution_count": null,
   "id": "c1a9bdd6",
   "metadata": {},
   "outputs": [],
   "source": []
  },
  {
   "cell_type": "code",
   "execution_count": null,
   "id": "f359b8b4",
   "metadata": {},
   "outputs": [],
   "source": []
  },
  {
   "cell_type": "code",
   "execution_count": null,
   "id": "f5a52f3f",
   "metadata": {},
   "outputs": [],
   "source": []
  },
  {
   "cell_type": "code",
   "execution_count": 6,
   "id": "eeae2ffd",
   "metadata": {},
   "outputs": [
    {
     "name": "stdout",
     "output_type": "stream",
     "text": [
      "total dimesion= 1\n",
      "total dimesion= 2\n",
      "total dimesion= 3\n"
     ]
    },
    {
     "data": {
      "text/plain": [
       "array([[[49, 34],\n",
       "        [49, 74]],\n",
       "\n",
       "       [[ 3, 23],\n",
       "        [ 6, 20]],\n",
       "\n",
       "       [[13, 89],\n",
       "        [29, 42]]])"
      ]
     },
     "execution_count": 6,
     "metadata": {},
     "output_type": "execute_result"
    }
   ],
   "source": [
    "import numpy as np\n",
    "arr=np.random.randint(1,100,12)\n",
    "print(\"total dimesion=\",arr.ndim)\n",
    "arr=arr.reshape(6,2)\n",
    "print(\"total dimesion=\",arr.ndim)\n",
    "arr=arr.reshape(3,2,2)\n",
    "print(\"total dimesion=\",arr.ndim)\n",
    "arr"
   ]
  },
  {
   "cell_type": "code",
   "execution_count": 4,
   "id": "c239b03b",
   "metadata": {},
   "outputs": [
    {
     "name": "stdout",
     "output_type": "stream",
     "text": [
      "total no= 1\n"
     ]
    }
   ],
   "source": [
    "print(\"total no=\",arr.ndim)"
   ]
  },
  {
   "cell_type": "raw",
   "id": "5b32abca",
   "metadata": {},
   "source": [
    "arr1=arr.reshape(6,2)\n",
    "arr1"
   ]
  },
  {
   "cell_type": "code",
   "execution_count": 9,
   "id": "ad31fe8b",
   "metadata": {},
   "outputs": [
    {
     "name": "stdout",
     "output_type": "stream",
     "text": [
      "after dimension= 1\n",
      "after dimension= 2\n",
      "after dimension= 3\n",
      "after dimension= 1\n"
     ]
    },
    {
     "data": {
      "text/plain": [
       "array([[[5],\n",
       "        [4]],\n",
       "\n",
       "       [[2],\n",
       "        [4]],\n",
       "\n",
       "       [[5],\n",
       "        [7]]])"
      ]
     },
     "execution_count": 9,
     "metadata": {},
     "output_type": "execute_result"
    }
   ],
   "source": [
    "import numpy as np\n",
    "arr=np.random.randint(1,10,6)\n",
    "print(\"after dimension=\",arr.ndim)\n",
    "arr= arr.reshape(3,2)\n",
    "print(\"after dimension=\",arr.ndim)\n",
    "arr=arr.reshape(1,3,2)\n",
    "print(\"after dimension=\",arr.ndim)\n",
    "arr=arr.reshape (6)\n",
    "print(\"after dimension=\",arr.ndim)\n",
    "arr=arr.reshape(3,2,1)\n",
    "arr"
   ]
  },
  {
   "cell_type": "code",
   "execution_count": 11,
   "id": "b9af5a61",
   "metadata": {},
   "outputs": [
    {
     "data": {
      "text/plain": [
       "array([10, 15,  2,  3,  9,  4,  1,  9,  5,  8])"
      ]
     },
     "execution_count": 11,
     "metadata": {},
     "output_type": "execute_result"
    }
   ],
   "source": [
    "import numpy as np\n",
    "arr=np.random.randint(1,20,10)\n",
    "arr\n"
   ]
  },
  {
   "cell_type": "code",
   "execution_count": 13,
   "id": "2e62939f",
   "metadata": {},
   "outputs": [
    {
     "name": "stdout",
     "output_type": "stream",
     "text": [
      "after dimesion= 1\n",
      "after shape= (10,)\n"
     ]
    }
   ],
   "source": [
    "print(\"after dimesion=\",arr.ndim)\n",
    "print(\"after shape=\",arr.shape)\n"
   ]
  },
  {
   "cell_type": "code",
   "execution_count": 18,
   "id": "db4b3793",
   "metadata": {},
   "outputs": [
    {
     "name": "stdout",
     "output_type": "stream",
     "text": [
      "after dimesional= 2\n",
      "after shape= 10\n"
     ]
    }
   ],
   "source": [
    "arr=arr.reshape(5,2)\n",
    "print(\"after dimesional=\",arr.ndim)\n",
    "print(\"after shape=\",arr.size)"
   ]
  },
  {
   "cell_type": "code",
   "execution_count": 20,
   "id": "d24144a9",
   "metadata": {},
   "outputs": [
    {
     "name": "stdout",
     "output_type": "stream",
     "text": [
      "after dimesinal= 3\n",
      "after size= 10\n"
     ]
    },
    {
     "data": {
      "text/plain": [
       "array([[[10],\n",
       "        [15]],\n",
       "\n",
       "       [[ 2],\n",
       "        [ 3]],\n",
       "\n",
       "       [[ 9],\n",
       "        [ 4]],\n",
       "\n",
       "       [[ 1],\n",
       "        [ 9]],\n",
       "\n",
       "       [[ 5],\n",
       "        [ 8]]])"
      ]
     },
     "execution_count": 20,
     "metadata": {},
     "output_type": "execute_result"
    }
   ],
   "source": [
    "arr=arr.reshape(5,2,1)\n",
    "print(\"after dimesinal=\",arr.ndim)\n",
    "print(\"after size=\",arr.size)\n",
    "arr"
   ]
  },
  {
   "cell_type": "code",
   "execution_count": 21,
   "id": "c7d88839",
   "metadata": {},
   "outputs": [
    {
     "name": "stdout",
     "output_type": "stream",
     "text": [
      "after dimesional= 1\n",
      "after size= 10\n"
     ]
    },
    {
     "data": {
      "text/plain": [
       "array([10, 15,  2,  3,  9,  4,  1,  9,  5,  8])"
      ]
     },
     "execution_count": 21,
     "metadata": {},
     "output_type": "execute_result"
    }
   ],
   "source": [
    "arr=arr.reshape(10)\n",
    "print(\"after dimesional=\",arr.ndim)\n",
    "print(\"after size=\",arr.size)\n",
    "arr"
   ]
  },
  {
   "cell_type": "code",
   "execution_count": null,
   "id": "2c1c7372",
   "metadata": {},
   "outputs": [],
   "source": []
  },
  {
   "cell_type": "code",
   "execution_count": null,
   "id": "8380a01b",
   "metadata": {},
   "outputs": [],
   "source": []
  },
  {
   "cell_type": "code",
   "execution_count": null,
   "id": "a292ea4c",
   "metadata": {},
   "outputs": [],
   "source": []
  },
  {
   "cell_type": "code",
   "execution_count": null,
   "id": "1fc350d7",
   "metadata": {},
   "outputs": [],
   "source": []
  },
  {
   "cell_type": "code",
   "execution_count": null,
   "id": "31fd8444",
   "metadata": {},
   "outputs": [],
   "source": []
  },
  {
   "cell_type": "code",
   "execution_count": null,
   "id": "85664813",
   "metadata": {},
   "outputs": [],
   "source": []
  },
  {
   "cell_type": "code",
   "execution_count": null,
   "id": "452cd70a",
   "metadata": {},
   "outputs": [],
   "source": []
  },
  {
   "cell_type": "code",
   "execution_count": null,
   "id": "7c1bd62d",
   "metadata": {},
   "outputs": [],
   "source": []
  },
  {
   "cell_type": "code",
   "execution_count": null,
   "id": "45944ebc",
   "metadata": {},
   "outputs": [],
   "source": []
  },
  {
   "cell_type": "code",
   "execution_count": null,
   "id": "10bcdb4d",
   "metadata": {},
   "outputs": [],
   "source": []
  },
  {
   "cell_type": "code",
   "execution_count": null,
   "id": "e3878ecf",
   "metadata": {},
   "outputs": [],
   "source": []
  },
  {
   "cell_type": "code",
   "execution_count": 1,
   "id": "24275c80",
   "metadata": {},
   "outputs": [],
   "source": [
    "import numpy as np\n",
    "are=np.random.randint(1,20,10)"
   ]
  },
  {
   "cell_type": "code",
   "execution_count": 38,
   "id": "51fa7e51",
   "metadata": {},
   "outputs": [
    {
     "data": {
      "text/plain": [
       "array([38, 13, 73, 10, 76,  6, 80, 65, 17,  2, 77, 72])"
      ]
     },
     "execution_count": 38,
     "metadata": {},
     "output_type": "execute_result"
    }
   ],
   "source": [
    "import numpy as np\n",
    "np.random.seed(1)\n",
    "arr=np.random.randint(1,100,12)\n",
    "arr.size\n",
    "arr\n",
    "\n",
    "\n"
   ]
  },
  {
   "cell_type": "code",
   "execution_count": null,
   "id": "0b3ebff0",
   "metadata": {},
   "outputs": [],
   "source": [
    "import numpy as np\n",
    "np.random.seed(13)\n",
    "arr=np.random.randint(1,100,15)\n",
    "arr.size\n",
    "arr"
   ]
  },
  {
   "cell_type": "code",
   "execution_count": 37,
   "id": "4ed5fa60",
   "metadata": {},
   "outputs": [
    {
     "data": {
      "text/plain": [
       "15"
      ]
     },
     "execution_count": 37,
     "metadata": {},
     "output_type": "execute_result"
    }
   ],
   "source": [
    "arr.size"
   ]
  },
  {
   "cell_type": "code",
   "execution_count": 38,
   "id": "08e55ee5",
   "metadata": {},
   "outputs": [
    {
     "ename": "SyntaxError",
     "evalue": "invalid syntax (2617597295.py, line 4)",
     "output_type": "error",
     "traceback": [
      "\u001b[1;36m  Input \u001b[1;32mIn [38]\u001b[1;36m\u001b[0m\n\u001b[1;33m    for i in range(size):\u001b[0m\n\u001b[1;37m                        ^\u001b[0m\n\u001b[1;31mSyntaxError\u001b[0m\u001b[1;31m:\u001b[0m invalid syntax\n"
     ]
    }
   ],
   "source": [
    "import numpy as np\n",
    "a=[]\n",
    "size= int(input(\"entre the many number:\")\n",
    "for i in range(size):\n",
    "    val=int(input(\"entre the value:\")\n",
    "    a.append (val)\n",
    "arr= np.array(a)\n",
    "for i in range(arr.size):\n",
    "            print(arr[i])\n",
    "            \n",
    "sum=0\n",
    "for i in range(arr.size):\n",
    "            sum+=arr[i]\n",
    "print(\"sum of element=\",sum)\n",
    "print(arr)"
   ]
  },
  {
   "cell_type": "code",
   "execution_count": null,
   "id": "28e6bbcb",
   "metadata": {},
   "outputs": [],
   "source": []
  },
  {
   "cell_type": "code",
   "execution_count": null,
   "id": "fced37bf",
   "metadata": {},
   "outputs": [],
   "source": []
  },
  {
   "cell_type": "code",
   "execution_count": null,
   "id": "6f680566",
   "metadata": {},
   "outputs": [],
   "source": []
  },
  {
   "cell_type": "code",
   "execution_count": null,
   "id": "1316253b",
   "metadata": {},
   "outputs": [],
   "source": []
  },
  {
   "cell_type": "code",
   "execution_count": null,
   "id": "8fe666c4",
   "metadata": {},
   "outputs": [],
   "source": []
  },
  {
   "cell_type": "code",
   "execution_count": null,
   "id": "51748c92",
   "metadata": {},
   "outputs": [],
   "source": []
  },
  {
   "cell_type": "code",
   "execution_count": null,
   "id": "d1c77146",
   "metadata": {},
   "outputs": [],
   "source": []
  },
  {
   "cell_type": "code",
   "execution_count": null,
   "id": "506084c9",
   "metadata": {},
   "outputs": [],
   "source": []
  },
  {
   "cell_type": "code",
   "execution_count": null,
   "id": "44e899f0",
   "metadata": {},
   "outputs": [],
   "source": []
  },
  {
   "cell_type": "code",
   "execution_count": null,
   "id": "f570890d",
   "metadata": {},
   "outputs": [],
   "source": []
  },
  {
   "cell_type": "code",
   "execution_count": null,
   "id": "832bf819",
   "metadata": {},
   "outputs": [],
   "source": []
  },
  {
   "cell_type": "code",
   "execution_count": null,
   "id": "fbb89cc6",
   "metadata": {},
   "outputs": [],
   "source": []
  },
  {
   "cell_type": "code",
   "execution_count": null,
   "id": "22d0d29b",
   "metadata": {},
   "outputs": [],
   "source": []
  },
  {
   "cell_type": "code",
   "execution_count": null,
   "id": "9a059d4e",
   "metadata": {},
   "outputs": [],
   "source": []
  },
  {
   "cell_type": "code",
   "execution_count": null,
   "id": "623c9d26",
   "metadata": {},
   "outputs": [],
   "source": []
  },
  {
   "cell_type": "code",
   "execution_count": null,
   "id": "559f7e1b",
   "metadata": {},
   "outputs": [],
   "source": []
  },
  {
   "cell_type": "code",
   "execution_count": null,
   "id": "5a874ce6",
   "metadata": {},
   "outputs": [],
   "source": []
  },
  {
   "cell_type": "code",
   "execution_count": null,
   "id": "1328e4ce",
   "metadata": {},
   "outputs": [],
   "source": []
  },
  {
   "cell_type": "code",
   "execution_count": null,
   "id": "6b0157ed",
   "metadata": {},
   "outputs": [],
   "source": []
  },
  {
   "cell_type": "code",
   "execution_count": null,
   "id": "e8887559",
   "metadata": {},
   "outputs": [],
   "source": []
  },
  {
   "cell_type": "code",
   "execution_count": 6,
   "id": "d819f235",
   "metadata": {},
   "outputs": [
    {
     "data": {
      "text/plain": [
       "array([ 10,  20,  30,   0,   0,   0,   0,  80,  90, 100])"
      ]
     },
     "execution_count": 6,
     "metadata": {},
     "output_type": "execute_result"
    }
   ],
   "source": [
    "import numpy as np\n",
    "a=np.array([10,20,30,40,50,60,70,80,90,100])\n",
    "slicing = a[3:7]\n",
    "slicing [:]=0\n",
    "a"
   ]
  },
  {
   "cell_type": "code",
   "execution_count": 9,
   "id": "97efb4f4",
   "metadata": {},
   "outputs": [
    {
     "data": {
      "text/plain": [
       "array([ 10,  20,  30,  40,  50,  60,  70,  80,  90, 100])"
      ]
     },
     "execution_count": 9,
     "metadata": {},
     "output_type": "execute_result"
    }
   ],
   "source": [
    "a= np.array([10,20,30,40,50,60,70,80,90,100])\n",
    "slicing = a[3:6] . copy()\n",
    "slicing [:]=0\n",
    "a"
   ]
  },
  {
   "cell_type": "code",
   "execution_count": 12,
   "id": "e55d56e1",
   "metadata": {},
   "outputs": [
    {
     "data": {
      "text/plain": [
       "array([ 1,  2,  0,  0,  0,  0,  7,  8,  9, 10])"
      ]
     },
     "execution_count": 12,
     "metadata": {},
     "output_type": "execute_result"
    }
   ],
   "source": [
    "a=np.array([1,2,3,4,5,6,7,8,9,10])\n",
    "slicing = a[2:6]\n",
    "slicing [:]= 0\n",
    "a"
   ]
  },
  {
   "cell_type": "code",
   "execution_count": 13,
   "id": "a5c3b2eb",
   "metadata": {},
   "outputs": [
    {
     "data": {
      "text/plain": [
       "array([ 1,  2,  3,  4,  5,  6,  7,  8,  9, 10])"
      ]
     },
     "execution_count": 13,
     "metadata": {},
     "output_type": "execute_result"
    }
   ],
   "source": [
    "a=np.array([1,2,3,4,5,6,7,8,9,10])\n",
    "slicing = a[2:6]. copy()\n",
    "slicing [:] = 0\n",
    "a\n"
   ]
  },
  {
   "cell_type": "code",
   "execution_count": 17,
   "id": "9a654905",
   "metadata": {},
   "outputs": [
    {
     "data": {
      "text/plain": [
       "array([False, False, False, False, False,  True,  True,  True,  True,\n",
       "        True])"
      ]
     },
     "execution_count": 17,
     "metadata": {},
     "output_type": "execute_result"
    }
   ],
   "source": [
    "a= np.arange(1,11)\n",
    "a\n",
    "a>5"
   ]
  },
  {
   "cell_type": "code",
   "execution_count": 19,
   "id": "03352755",
   "metadata": {},
   "outputs": [
    {
     "data": {
      "text/plain": [
       "array([False, False, False, False, False, False, False, False, False,\n",
       "       False,  True,  True,  True,  True,  True,  True,  True,  True,\n",
       "        True,  True])"
      ]
     },
     "execution_count": 19,
     "metadata": {},
     "output_type": "execute_result"
    }
   ],
   "source": [
    "a=np.arange(1,21)\n",
    "a\n",
    "a>10"
   ]
  },
  {
   "cell_type": "code",
   "execution_count": 24,
   "id": "3e0ef66e",
   "metadata": {},
   "outputs": [
    {
     "data": {
      "text/plain": [
       "array([11, 12, 13, 14, 15])"
      ]
     },
     "execution_count": 24,
     "metadata": {},
     "output_type": "execute_result"
    }
   ],
   "source": [
    "arr=np.arange(1,16)\n",
    "arr\n",
    "b=arr>10\n",
    "arr[b]"
   ]
  },
  {
   "cell_type": "code",
   "execution_count": 25,
   "id": "7578b93c",
   "metadata": {},
   "outputs": [
    {
     "data": {
      "text/plain": [
       "array([ 1,  2,  3,  4,  5,  6,  7,  8,  9, 10, 11, 12, 13, 14])"
      ]
     },
     "execution_count": 25,
     "metadata": {},
     "output_type": "execute_result"
    }
   ],
   "source": [
    "arr=np.arange(1,31)\n",
    "arr\n",
    "b= arr<15\n",
    "arr[b]"
   ]
  },
  {
   "cell_type": "code",
   "execution_count": 26,
   "id": "fccdae29",
   "metadata": {},
   "outputs": [
    {
     "data": {
      "text/plain": [
       "array([ 2,  4,  6,  8, 10, 12, 14, 16, 18, 20, 22, 24, 26, 28, 30])"
      ]
     },
     "execution_count": 26,
     "metadata": {},
     "output_type": "execute_result"
    }
   ],
   "source": [
    "arr = np.arange (1,31)\n",
    "arr\n",
    "arr[arr%2==0]"
   ]
  },
  {
   "cell_type": "code",
   "execution_count": 27,
   "id": "51ea209d",
   "metadata": {},
   "outputs": [
    {
     "data": {
      "text/plain": [
       "array([ 1,  3,  5,  7,  9, 11, 13, 15, 17, 19])"
      ]
     },
     "execution_count": 27,
     "metadata": {},
     "output_type": "execute_result"
    }
   ],
   "source": [
    "arr = np. arange (1,21)\n",
    "arr\n",
    "arr[arr%2 != 0]"
   ]
  },
  {
   "cell_type": "code",
   "execution_count": 28,
   "id": "f67d8f61",
   "metadata": {},
   "outputs": [
    {
     "data": {
      "text/plain": [
       "array([10])"
      ]
     },
     "execution_count": 28,
     "metadata": {},
     "output_type": "execute_result"
    }
   ],
   "source": [
    "arr[arr==10]"
   ]
  },
  {
   "cell_type": "code",
   "execution_count": 32,
   "id": "030d7da3",
   "metadata": {},
   "outputs": [
    {
     "data": {
      "text/plain": [
       "array([ True,  True,  True,  True,  True,  True,  True,  True,  True,\n",
       "        True,  True,  True,  True,  True,  True,  True,  True,  True,\n",
       "        True, False, False, False, False, False, False, False, False,\n",
       "       False, False, False, False, False, False, False, False, False,\n",
       "       False, False, False, False, False, False, False, False, False,\n",
       "       False, False, False, False, False])"
      ]
     },
     "execution_count": 32,
     "metadata": {},
     "output_type": "execute_result"
    }
   ],
   "source": [
    "arr = np.arange(1,51)\n",
    "arr\n",
    "arr<20"
   ]
  },
  {
   "cell_type": "code",
   "execution_count": 34,
   "id": "6a4a59b6",
   "metadata": {},
   "outputs": [
    {
     "data": {
      "text/plain": [
       "array([ 1,  2,  3,  4,  5,  6,  7,  8,  9, 10, 11, 12, 13, 14, 15, 16, 17,\n",
       "       18, 19])"
      ]
     },
     "execution_count": 34,
     "metadata": {},
     "output_type": "execute_result"
    }
   ],
   "source": [
    "arr = np.arange(1,51)\n",
    "arr\n",
    "b=arr<20\n",
    "arr[b]"
   ]
  },
  {
   "cell_type": "code",
   "execution_count": 35,
   "id": "083d93e9",
   "metadata": {},
   "outputs": [
    {
     "data": {
      "text/plain": [
       "array([ 2,  4,  6,  8, 10, 12, 14, 16, 18, 20, 22, 24, 26, 28, 30, 32, 34,\n",
       "       36, 38, 40, 42, 44, 46, 48, 50])"
      ]
     },
     "execution_count": 35,
     "metadata": {},
     "output_type": "execute_result"
    }
   ],
   "source": [
    "arr= np.arange (1,51)\n",
    "arr\n",
    "arr[arr%2==0]"
   ]
  },
  {
   "cell_type": "code",
   "execution_count": 36,
   "id": "d33c88c9",
   "metadata": {},
   "outputs": [
    {
     "data": {
      "text/plain": [
       "array([ 1,  3,  5,  7,  9, 11, 13, 15, 17, 19, 21, 23, 25, 27, 29, 31, 33,\n",
       "       35, 37, 39, 41, 43, 45, 47, 49])"
      ]
     },
     "execution_count": 36,
     "metadata": {},
     "output_type": "execute_result"
    }
   ],
   "source": [
    "arr=np.arange(1,51)\n",
    "arr\n",
    "arr[arr%2 != 0]"
   ]
  },
  {
   "cell_type": "code",
   "execution_count": 1,
   "id": "50f249b7",
   "metadata": {},
   "outputs": [
    {
     "data": {
      "text/plain": [
       "array([ 2,  4,  6,  8, 10])"
      ]
     },
     "execution_count": 1,
     "metadata": {},
     "output_type": "execute_result"
    }
   ],
   "source": [
    "import numpy as np\n",
    "arr = np. arange(1,6)\n",
    "arr*2"
   ]
  },
  {
   "cell_type": "code",
   "execution_count": 2,
   "id": "8f7b20ff",
   "metadata": {},
   "outputs": [
    {
     "data": {
      "text/plain": [
       "array([ 2,  4,  6,  8, 10, 12, 14, 16, 18, 20])"
      ]
     },
     "execution_count": 2,
     "metadata": {},
     "output_type": "execute_result"
    }
   ],
   "source": [
    "arr= np.arange (1,11)\n",
    "arr*2"
   ]
  },
  {
   "cell_type": "code",
   "execution_count": 3,
   "id": "550fd609",
   "metadata": {},
   "outputs": [
    {
     "name": "stdout",
     "output_type": "stream",
     "text": [
      "multiply= [ 2  4  6  8 10 12 14 16 18 20 22 24 26 28 30 32 34 36 38 40 42 44 46 48\n",
      " 50]\n"
     ]
    }
   ],
   "source": [
    "arr=np.arange(1,26)\n",
    "b=arr*2\n",
    "print(\"multiply=\",b)"
   ]
  },
  {
   "cell_type": "code",
   "execution_count": 4,
   "id": "7f5788f1",
   "metadata": {},
   "outputs": [
    {
     "name": "stdout",
     "output_type": "stream",
     "text": [
      "moduls of arr= [  1   4   9  16  25  36  49  64  81 100 121 144 169 196 225 256 289 324\n",
      " 361 400 441 484 529 576 625]\n"
     ]
    }
   ],
   "source": [
    "arr=np.arange(1,26)\n",
    "b=arr**2\n",
    "print(\"moduls of arr=\",b)"
   ]
  },
  {
   "cell_type": "code",
   "execution_count": 5,
   "id": "4a80a097",
   "metadata": {},
   "outputs": [
    {
     "data": {
      "text/plain": [
       "array([ 1,  4,  9, 16, 25, 36, 49, 64, 81], dtype=int32)"
      ]
     },
     "execution_count": 5,
     "metadata": {},
     "output_type": "execute_result"
    }
   ],
   "source": [
    "arr=np.arange(1,10)\n",
    "b=arr**2\n",
    "b"
   ]
  },
  {
   "cell_type": "code",
   "execution_count": 7,
   "id": "0424b8a5",
   "metadata": {},
   "outputs": [
    {
     "data": {
      "text/plain": [
       "array([ 1,  4,  9, 16, 25], dtype=int32)"
      ]
     },
     "execution_count": 7,
     "metadata": {},
     "output_type": "execute_result"
    }
   ],
   "source": [
    "arr=np.arange(1,6)\n",
    "arr**2\n"
   ]
  },
  {
   "cell_type": "code",
   "execution_count": 8,
   "id": "001b73e8",
   "metadata": {},
   "outputs": [
    {
     "name": "stdout",
     "output_type": "stream",
     "text": [
      "addition= [3 4 5 6 7]\n"
     ]
    }
   ],
   "source": [
    "arr=np.arange(1,6)\n",
    "a=arr+2\n",
    "print(\"addition=\",a)"
   ]
  },
  {
   "cell_type": "code",
   "execution_count": 9,
   "id": "42ffbb61",
   "metadata": {},
   "outputs": [
    {
     "data": {
      "text/plain": [
       "array([ 4,  5,  6,  7,  8,  9, 10, 11, 12, 13])"
      ]
     },
     "execution_count": 9,
     "metadata": {},
     "output_type": "execute_result"
    }
   ],
   "source": [
    "arr =np.arange(1,11)\n",
    "arr+3\n"
   ]
  },
  {
   "cell_type": "code",
   "execution_count": 10,
   "id": "7d798b8b",
   "metadata": {},
   "outputs": [
    {
     "name": "stdout",
     "output_type": "stream",
     "text": [
      "addition= [12 14 16 18 20]\n"
     ]
    }
   ],
   "source": [
    "arr1=np.arange(1,6)\n",
    "arr2=np.arange(11,16)\n",
    "arr3=arr1+arr2\n",
    "print(\"addition=\",arr3)"
   ]
  },
  {
   "cell_type": "code",
   "execution_count": 3,
   "id": "d1d2cc71",
   "metadata": {},
   "outputs": [
    {
     "name": "stdout",
     "output_type": "stream",
     "text": [
      "addition= [12 14 16 18 20 22 24 26 28]\n"
     ]
    }
   ],
   "source": [
    "import numpy as np\n",
    "arr=np.arange(1,10)\n",
    "arr1=np.arange(11,20)\n",
    "arr2=arr+arr1\n",
    "print(\"addition=\",arr2)\n"
   ]
  },
  {
   "cell_type": "code",
   "execution_count": 4,
   "id": "01981e61",
   "metadata": {},
   "outputs": [
    {
     "data": {
      "text/plain": [
       "array([-10, -10, -10, -10, -10, -10, -10, -10, -10])"
      ]
     },
     "execution_count": 4,
     "metadata": {},
     "output_type": "execute_result"
    }
   ],
   "source": [
    "arr=np.arange(1,10)\n",
    "arr1=np.arange(11,20)\n",
    "arr2=arr-arr1\n",
    "arr2"
   ]
  },
  {
   "cell_type": "code",
   "execution_count": 7,
   "id": "9b3bbc73",
   "metadata": {},
   "outputs": [
    {
     "data": {
      "text/plain": [
       "array([-10, -10, -10, -10, -10, -10, -10, -10])"
      ]
     },
     "execution_count": 7,
     "metadata": {},
     "output_type": "execute_result"
    }
   ],
   "source": [
    "arr=np.arange(1,9)\n",
    "arr2=np.arange(11,19)\n",
    "arr=arr-arr2\n",
    "arr"
   ]
  },
  {
   "cell_type": "code",
   "execution_count": 8,
   "id": "0571aa61",
   "metadata": {},
   "outputs": [
    {
     "name": "stdout",
     "output_type": "stream",
     "text": [
      "substrction= [-10 -10 -10 -10 -10 -10 -10 -10 -10]\n"
     ]
    }
   ],
   "source": [
    "arr=np.arange(1,10)\n",
    "arr2=np.arange(11,20)\n",
    "arr3=arr-arr2\n",
    "print(\"substrction=\",arr3)"
   ]
  },
  {
   "cell_type": "code",
   "execution_count": 21,
   "id": "b1b0944e",
   "metadata": {},
   "outputs": [
    {
     "name": "stdout",
     "output_type": "stream",
     "text": [
      "array addition= [[ 6  8]\n",
      " [10 12]]\n"
     ]
    }
   ],
   "source": [
    "import numpy as np\n",
    "a=np.array ([1,2,3,4]).reshape(2,2)\n",
    "b=np.array ([5,6,7,8]).reshape(2,2)\n",
    "c=a+b\n",
    "print(\"array addition=\",c)\n"
   ]
  },
  {
   "cell_type": "code",
   "execution_count": 22,
   "id": "e3a82f8b",
   "metadata": {},
   "outputs": [
    {
     "name": "stdout",
     "output_type": "stream",
     "text": [
      "array addtion= [[ 6  8]\n",
      " [10 12]]\n"
     ]
    }
   ],
   "source": [
    "arr=np.array([11,12,14,15]).reshape(2,2)\n",
    "arr1=np.array([21,22,23,24]).reshape(2,2)\n",
    "c=a+b\n",
    "print(\"array addtion=\",c)"
   ]
  },
  {
   "cell_type": "code",
   "execution_count": 31,
   "id": "fa79875e",
   "metadata": {},
   "outputs": [
    {
     "name": "stdout",
     "output_type": "stream",
     "text": [
      "array divide= [[0.16666667 0.28571429]\n",
      " [0.375      0.44444444]]\n"
     ]
    }
   ],
   "source": [
    "arr1=np.array([1,2,3,4]).reshape(2,2)\n",
    "arr2=np.array([6,7,8,9]).reshape(2,2)\n",
    "c=arr1/arr2\n",
    "print(\"array divide=\",c)\n"
   ]
  },
  {
   "cell_type": "code",
   "execution_count": 32,
   "id": "e1088a97",
   "metadata": {},
   "outputs": [
    {
     "data": {
      "text/plain": [
       "array([[19, 22],\n",
       "       [43, 50]])"
      ]
     },
     "execution_count": 32,
     "metadata": {},
     "output_type": "execute_result"
    }
   ],
   "source": [
    "arr1=np.array([1,2,3,4]).reshape(2,2)\n",
    "arr2=np.array([6,7,8,9]).reshape(2,2)\n",
    "a.dot(b)"
   ]
  },
  {
   "cell_type": "code",
   "execution_count": 36,
   "id": "f51e1b50",
   "metadata": {},
   "outputs": [
    {
     "name": "stdout",
     "output_type": "stream",
     "text": [
      "multiply= [[ 7 16]\n",
      " [27 40]]\n"
     ]
    }
   ],
   "source": [
    "arr1= np.array([1,2,3,4]).reshape(2,2)\n",
    "arr2=np.array([7,8,9,10]).reshape(2,2)\n",
    "c=arr1 * arr2 \n",
    "print(\"multiply=\",c)"
   ]
  },
  {
   "cell_type": "code",
   "execution_count": 40,
   "id": "0ca90d60",
   "metadata": {},
   "outputs": [
    {
     "name": "stdout",
     "output_type": "stream",
     "text": [
      "array multiply= [[ 60  77]\n",
      " [ 96 117]]\n"
     ]
    }
   ],
   "source": [
    "arr1= np.array([6,7,8,9]).reshape(2,2)\n",
    "arr2=np.array([10,11,12,13]).reshape(2,2)\n",
    "c=arr1 * arr2\n",
    "print(\"array multiply=\",c)"
   ]
  },
  {
   "cell_type": "code",
   "execution_count": 3,
   "id": "8cce4ab4",
   "metadata": {},
   "outputs": [
    {
     "name": "stdout",
     "output_type": "stream",
     "text": [
      "maxime number of array= 100\n",
      "miniume number of array= 10\n",
      "maxime no of  indexing= 9\n",
      "minium no of indexing= 0\n",
      "sequre root of every number= [ 3.16227766  4.47213595  5.47722558  6.32455532  7.07106781  7.74596669\n",
      "  8.36660027  8.94427191  9.48683298 10.        ]\n",
      "sin value of every number= [-0.54402111  0.91294525 -0.98803162  0.74511316 -0.26237485 -0.30481062\n",
      "  0.77389068 -0.99388865  0.89399666 -0.50636564]\n",
      "cos value of ever number= [-0.83907153  0.40808206  0.15425145 -0.66693806  0.96496603 -0.95241298\n",
      "  0.6333192  -0.11038724 -0.44807362  0.86231887]\n"
     ]
    }
   ],
   "source": [
    "import numpy as np\n",
    "arr= np.array ([10,20,30,40,50,60,70,80,90,100])\n",
    "a=np.max(arr)\n",
    "print(\"maxime number of array=\",a)\n",
    "b=np.min(arr)\n",
    "print(\"miniume number of array=\",b)\n",
    "c=np.argmax(arr)\n",
    "print(\"maxime no of  indexing=\",c)\n",
    "d=np.argmin(arr)\n",
    "print(\"minium no of indexing=\",d)\n",
    "e=np.sqrt(arr)\n",
    "print(\"sequre root of every number=\",e)\n",
    "f=np.sin(arr)\n",
    "print(\"sin value of every number=\",f)\n",
    "g=np.cos(arr)\n",
    "print(\"cos value of ever number=\",g)\n"
   ]
  },
  {
   "cell_type": "code",
   "execution_count": 6,
   "id": "95ef029d",
   "metadata": {},
   "outputs": [
    {
     "data": {
      "text/plain": [
       "array([1.  , 1.25, 1.5 , 1.75, 2.  ])"
      ]
     },
     "execution_count": 6,
     "metadata": {},
     "output_type": "execute_result"
    }
   ],
   "source": [
    "import numpy as np\n",
    "a=np.array([10,20,30,40,50,60,70,80,])\n",
    "np.linspace(1,2,5)"
   ]
  },
  {
   "cell_type": "code",
   "execution_count": 7,
   "id": "ffd0f172",
   "metadata": {},
   "outputs": [
    {
     "data": {
      "text/plain": [
       "array([ 1.  ,  3.25,  5.5 ,  7.75, 10.  ])"
      ]
     },
     "execution_count": 7,
     "metadata": {},
     "output_type": "execute_result"
    }
   ],
   "source": [
    "np.linspace(1,10,5)"
   ]
  },
  {
   "cell_type": "code",
   "execution_count": 8,
   "id": "f237af56",
   "metadata": {},
   "outputs": [
    {
     "name": "stdout",
     "output_type": "stream",
     "text": [
      "after number= [ 1.          2.72727273  4.45454545  6.18181818  7.90909091  9.63636364\n",
      " 11.36363636 13.09090909 14.81818182 16.54545455 18.27272727 20.        ]\n"
     ]
    }
   ],
   "source": [
    "b=np.linspace(1,20,12)\n",
    "print(\"after number=\",b)"
   ]
  },
  {
   "cell_type": "code",
   "execution_count": 10,
   "id": "67a3f852",
   "metadata": {},
   "outputs": [
    {
     "name": "stdout",
     "output_type": "stream",
     "text": [
      "after numbert= [ 1.    8.25 15.5  22.75 30.  ]\n"
     ]
    }
   ],
   "source": [
    "c=np.linspace(1,30,5)\n",
    "print(\"after numbert=\",c)"
   ]
  },
  {
   "cell_type": "code",
   "execution_count": 11,
   "id": "3d792188",
   "metadata": {},
   "outputs": [
    {
     "name": "stdout",
     "output_type": "stream",
     "text": [
      "after number= [  1.   10.9  20.8  30.7  40.6  50.5  60.4  70.3  80.2  90.1 100. ]\n"
     ]
    }
   ],
   "source": [
    "d=np.linspace(1,100,11)\n",
    "print(\"after number=\",d)"
   ]
  },
  {
   "cell_type": "code",
   "execution_count": 12,
   "id": "d4e2bd34",
   "metadata": {},
   "outputs": [
    {
     "name": "stdout",
     "output_type": "stream",
     "text": [
      "after numbr= [  1.          23.11111111  45.22222222  67.33333333  89.44444444\n",
      " 111.55555556 133.66666667 155.77777778 177.88888889 200.        ]\n"
     ]
    }
   ],
   "source": [
    "e=np.linspace(1,200,10)\n",
    "print(\"after numbr=\",e)"
   ]
  },
  {
   "cell_type": "code",
   "execution_count": 1,
   "id": "e5d6c4a9",
   "metadata": {},
   "outputs": [
    {
     "data": {
      "text/plain": [
       "array([[ 2, 27, 11],\n",
       "       [10, 23, 22],\n",
       "       [ 5,  4,  6]])"
      ]
     },
     "execution_count": 1,
     "metadata": {},
     "output_type": "execute_result"
    }
   ],
   "source": [
    "import numpy as np\n",
    "np.random.seed(34)\n",
    "matrix=np.random.randint(1,30,9).reshape(3,3)\n",
    "matrix"
   ]
  },
  {
   "cell_type": "code",
   "execution_count": 2,
   "id": "e7d256ab",
   "metadata": {},
   "outputs": [
    {
     "data": {
      "text/plain": [
       "2"
      ]
     },
     "execution_count": 2,
     "metadata": {},
     "output_type": "execute_result"
    }
   ],
   "source": [
    "np.min(matrix)"
   ]
  },
  {
   "cell_type": "code",
   "execution_count": 3,
   "id": "5d8bb0ae",
   "metadata": {},
   "outputs": [
    {
     "data": {
      "text/plain": [
       "27"
      ]
     },
     "execution_count": 3,
     "metadata": {},
     "output_type": "execute_result"
    }
   ],
   "source": [
    "np.max(matrix)"
   ]
  },
  {
   "cell_type": "code",
   "execution_count": 4,
   "id": "f58ee8b8",
   "metadata": {},
   "outputs": [
    {
     "data": {
      "text/plain": [
       "110"
      ]
     },
     "execution_count": 4,
     "metadata": {},
     "output_type": "execute_result"
    }
   ],
   "source": [
    "np.sum(matrix)"
   ]
  },
  {
   "cell_type": "code",
   "execution_count": 5,
   "id": "386046a6",
   "metadata": {},
   "outputs": [
    {
     "data": {
      "text/plain": [
       "array([40, 55, 15])"
      ]
     },
     "execution_count": 5,
     "metadata": {},
     "output_type": "execute_result"
    }
   ],
   "source": [
    "np.sum(matrix,axis=1)"
   ]
  },
  {
   "cell_type": "code",
   "execution_count": 6,
   "id": "329097c2",
   "metadata": {},
   "outputs": [
    {
     "data": {
      "text/plain": [
       "array([ 2, 10,  4])"
      ]
     },
     "execution_count": 6,
     "metadata": {},
     "output_type": "execute_result"
    }
   ],
   "source": [
    "np.min(matrix,axis=1)"
   ]
  },
  {
   "cell_type": "code",
   "execution_count": 7,
   "id": "2208d92b",
   "metadata": {},
   "outputs": [
    {
     "data": {
      "text/plain": [
       "array([27, 23,  6])"
      ]
     },
     "execution_count": 7,
     "metadata": {},
     "output_type": "execute_result"
    }
   ],
   "source": [
    "np.max(matrix,axis=1)"
   ]
  },
  {
   "cell_type": "code",
   "execution_count": 8,
   "id": "989b239d",
   "metadata": {},
   "outputs": [
    {
     "data": {
      "text/plain": [
       "array([17, 54, 39])"
      ]
     },
     "execution_count": 8,
     "metadata": {},
     "output_type": "execute_result"
    }
   ],
   "source": [
    "np.sum(matrix,axis=0)"
   ]
  },
  {
   "cell_type": "code",
   "execution_count": 9,
   "id": "9581f162",
   "metadata": {},
   "outputs": [
    {
     "data": {
      "text/plain": [
       "array([2, 4, 6])"
      ]
     },
     "execution_count": 9,
     "metadata": {},
     "output_type": "execute_result"
    }
   ],
   "source": [
    "np.min(matrix,axis=0)"
   ]
  },
  {
   "cell_type": "code",
   "execution_count": 10,
   "id": "3123fc4d",
   "metadata": {},
   "outputs": [
    {
     "data": {
      "text/plain": [
       "array([10, 27, 22])"
      ]
     },
     "execution_count": 10,
     "metadata": {},
     "output_type": "execute_result"
    }
   ],
   "source": [
    "np.max(matrix,axis=0)"
   ]
  },
  {
   "cell_type": "code",
   "execution_count": 13,
   "id": "da47aee9",
   "metadata": {},
   "outputs": [
    {
     "data": {
      "text/plain": [
       "array([[ 2, 29, 40],\n",
       "       [10, 33, 55],\n",
       "       [ 5,  9, 15]], dtype=int32)"
      ]
     },
     "execution_count": 13,
     "metadata": {},
     "output_type": "execute_result"
    }
   ],
   "source": [
    "np.cumsum(matrix,axis=1)"
   ]
  },
  {
   "cell_type": "code",
   "execution_count": 14,
   "id": "9922bcba",
   "metadata": {},
   "outputs": [
    {
     "data": {
      "text/plain": [
       "array([[ 2, 27, 11],\n",
       "       [12, 50, 33],\n",
       "       [17, 54, 39]], dtype=int32)"
      ]
     },
     "execution_count": 14,
     "metadata": {},
     "output_type": "execute_result"
    }
   ],
   "source": [
    "np.cumsum(matrix,axis=0)"
   ]
  },
  {
   "cell_type": "code",
   "execution_count": 6,
   "id": "302ca81b",
   "metadata": {},
   "outputs": [
    {
     "name": "stdout",
     "output_type": "stream",
     "text": [
      "matrix of sum= 150\n",
      "matrix min number= 2\n",
      "matrix max number= 28\n"
     ]
    }
   ],
   "source": [
    "import numpy as np\n",
    "np.random.seed(11)\n",
    "matrix=np.random.randint(1,30,9).reshape(3,3)\n",
    "a=np.sum(matrix)\n",
    "print(\"matrix of sum=\",a)\n",
    "b=np.min(matrix)\n",
    "print(\"matrix min number=\",b)\n",
    "c=np.max(matrix)\n",
    "print(\"matrix max number=\",c)\n",
    "matrix\n",
    "d=np.sum(matrix,axis=1)\n",
    "e=np.min(matrix,axis=1)\n",
    "f=np.max(matrix,axis=1)\n",
    "g=np.sum(matrix,axis=0)\n",
    "h=np.min(matrix,axis=0)\n",
    "i=np.max(matrix,axis=0)"
   ]
  },
  {
   "cell_type": "code",
   "execution_count": 10,
   "id": "73131181",
   "metadata": {},
   "outputs": [
    {
     "data": {
      "text/plain": [
       "array([[26, 17, 28],\n",
       "       [18, 14, 13],\n",
       "       [34,  8, 19]])"
      ]
     },
     "execution_count": 10,
     "metadata": {},
     "output_type": "execute_result"
    }
   ],
   "source": [
    "import numpy as np\n",
    "np.random.seed(11)\n",
    "matrix=np.random.randint(1,50,9).reshape(3,3)\n",
    "matrix"
   ]
  },
  {
   "cell_type": "code",
   "execution_count": 11,
   "id": "ace05f02",
   "metadata": {},
   "outputs": [
    {
     "data": {
      "text/plain": [
       "array([78, 39, 60])"
      ]
     },
     "execution_count": 11,
     "metadata": {},
     "output_type": "execute_result"
    }
   ],
   "source": [
    "np.sum(matrix,axis=0)"
   ]
  },
  {
   "cell_type": "code",
   "execution_count": 13,
   "id": "6a0264e3",
   "metadata": {},
   "outputs": [
    {
     "data": {
      "text/plain": [
       "array([71, 45, 61])"
      ]
     },
     "execution_count": 13,
     "metadata": {},
     "output_type": "execute_result"
    }
   ],
   "source": [
    "np.sum(matrix,axis=1)"
   ]
  },
  {
   "cell_type": "code",
   "execution_count": 14,
   "id": "22f9d8e9",
   "metadata": {},
   "outputs": [
    {
     "data": {
      "text/plain": [
       "array([17, 13,  8])"
      ]
     },
     "execution_count": 14,
     "metadata": {},
     "output_type": "execute_result"
    }
   ],
   "source": [
    "np.min(matrix,axis=1)"
   ]
  },
  {
   "cell_type": "code",
   "execution_count": 15,
   "id": "726a1595",
   "metadata": {},
   "outputs": [
    {
     "data": {
      "text/plain": [
       "array([18,  8, 13])"
      ]
     },
     "execution_count": 15,
     "metadata": {},
     "output_type": "execute_result"
    }
   ],
   "source": [
    "np.min(matrix,axis=0)"
   ]
  },
  {
   "cell_type": "code",
   "execution_count": 16,
   "id": "78e7bc2c",
   "metadata": {},
   "outputs": [
    {
     "data": {
      "text/plain": [
       "array([28, 18, 34])"
      ]
     },
     "execution_count": 16,
     "metadata": {},
     "output_type": "execute_result"
    }
   ],
   "source": [
    "np.max(matrix,axis=1)"
   ]
  },
  {
   "cell_type": "code",
   "execution_count": 17,
   "id": "32f2560e",
   "metadata": {},
   "outputs": [
    {
     "data": {
      "text/plain": [
       "array([34, 17, 28])"
      ]
     },
     "execution_count": 17,
     "metadata": {},
     "output_type": "execute_result"
    }
   ],
   "source": [
    "np.max(matrix,axis=0)"
   ]
  },
  {
   "cell_type": "code",
   "execution_count": 21,
   "id": "72bd0d80",
   "metadata": {},
   "outputs": [
    {
     "data": {
      "text/plain": [
       "array([ 26,  43,  71,  89, 103, 116, 150, 158, 177], dtype=int32)"
      ]
     },
     "execution_count": 21,
     "metadata": {},
     "output_type": "execute_result"
    }
   ],
   "source": [
    "np.cumsum(matrix)"
   ]
  },
  {
   "cell_type": "code",
   "execution_count": 22,
   "id": "98619949",
   "metadata": {},
   "outputs": [
    {
     "data": {
      "text/plain": [
       "array([[26, 17, 28],\n",
       "       [18, 14, 13],\n",
       "       [34,  8, 19]])"
      ]
     },
     "execution_count": 22,
     "metadata": {},
     "output_type": "execute_result"
    }
   ],
   "source": [
    "matrix\n"
   ]
  },
  {
   "cell_type": "code",
   "execution_count": 23,
   "id": "b0381622",
   "metadata": {},
   "outputs": [
    {
     "data": {
      "text/plain": [
       "array([[26, 43, 71],\n",
       "       [18, 32, 45],\n",
       "       [34, 42, 61]], dtype=int32)"
      ]
     },
     "execution_count": 23,
     "metadata": {},
     "output_type": "execute_result"
    }
   ],
   "source": [
    "np.cumsum(matrix,axis=1)"
   ]
  },
  {
   "cell_type": "code",
   "execution_count": 24,
   "id": "262b7421",
   "metadata": {},
   "outputs": [
    {
     "data": {
      "text/plain": [
       "array([[26, 17, 28],\n",
       "       [44, 31, 41],\n",
       "       [78, 39, 60]], dtype=int32)"
      ]
     },
     "execution_count": 24,
     "metadata": {},
     "output_type": "execute_result"
    }
   ],
   "source": [
    "np.cumsum(matrix,axis=0)"
   ]
  },
  {
   "cell_type": "code",
   "execution_count": 1,
   "id": "840d1e51",
   "metadata": {},
   "outputs": [
    {
     "data": {
      "text/plain": [
       "array([16, 20, 15, 10,  8, 11, 20,  3,  4])"
      ]
     },
     "execution_count": 1,
     "metadata": {},
     "output_type": "execute_result"
    }
   ],
   "source": [
    "import numpy as np\n",
    "arr=np.random.randint(1,21,9)\n",
    "arr\n"
   ]
  },
  {
   "cell_type": "code",
   "execution_count": 2,
   "id": "18258bd2",
   "metadata": {},
   "outputs": [
    {
     "data": {
      "text/plain": [
       "array([[ 1, 10,  9],\n",
       "       [ 5, 14, 17],\n",
       "       [18,  3,  7]])"
      ]
     },
     "execution_count": 2,
     "metadata": {},
     "output_type": "execute_result"
    }
   ],
   "source": [
    "arr=np.random.randint(1,21,9).reshape(3,3)\n",
    "arr"
   ]
  },
  {
   "cell_type": "code",
   "execution_count": 15,
   "id": "2cad281e",
   "metadata": {},
   "outputs": [
    {
     "data": {
      "text/plain": [
       "(array([ 3,  4,  7, 12, 13, 17, 18]),\n",
       " array([3, 4, 1, 0, 6, 7, 2], dtype=int64),\n",
       " array([1, 2, 1, 1, 1, 1, 2], dtype=int64))"
      ]
     },
     "execution_count": 15,
     "metadata": {},
     "output_type": "execute_result"
    }
   ],
   "source": [
    "import numpy as np\n",
    "np.random.seed(12)\n",
    "arr=np.random.randint(1,21,9)\n",
    "np.unique(arr,return_index=True,return_counts=True)\n"
   ]
  },
  {
   "cell_type": "code",
   "execution_count": 6,
   "id": "dc119565",
   "metadata": {},
   "outputs": [
    {
     "data": {
      "text/plain": [
       "array([13, 12, 18,  3, 18,  7, 17,  4,  4])"
      ]
     },
     "execution_count": 6,
     "metadata": {},
     "output_type": "execute_result"
    }
   ],
   "source": [
    "np.random.shuffle(arr1)\n",
    "arr1"
   ]
  },
  {
   "cell_type": "code",
   "execution_count": 9,
   "id": "a3b0f079",
   "metadata": {},
   "outputs": [
    {
     "data": {
      "text/plain": [
       "array([ 3,  4,  7, 12, 13, 17, 18])"
      ]
     },
     "execution_count": 9,
     "metadata": {},
     "output_type": "execute_result"
    }
   ],
   "source": [
    "np.unique(arr1)\n"
   ]
  },
  {
   "cell_type": "code",
   "execution_count": 8,
   "id": "f7c2be7c",
   "metadata": {},
   "outputs": [
    {
     "data": {
      "text/plain": [
       "7"
      ]
     },
     "execution_count": 8,
     "metadata": {},
     "output_type": "execute_result"
    }
   ],
   "source": [
    "np.unique(arr1).size"
   ]
  },
  {
   "cell_type": "code",
   "execution_count": 11,
   "id": "c4986e02",
   "metadata": {},
   "outputs": [
    {
     "ename": "NameError",
     "evalue": "name 'true' is not defined",
     "output_type": "error",
     "traceback": [
      "\u001b[1;31m---------------------------------------------------------------------------\u001b[0m",
      "\u001b[1;31mNameError\u001b[0m                                 Traceback (most recent call last)",
      "Input \u001b[1;32mIn [11]\u001b[0m, in \u001b[0;36m<cell line: 1>\u001b[1;34m()\u001b[0m\n\u001b[1;32m----> 1\u001b[0m np\u001b[38;5;241m.\u001b[39munique(arr1,return_index\u001b[38;5;241m=\u001b[39m\u001b[43mtrue\u001b[49m,return_counts\u001b[38;5;241m=\u001b[39mtrue)\n",
      "\u001b[1;31mNameError\u001b[0m: name 'true' is not defined"
     ]
    }
   ],
   "source": [
    "np.unique(arr1,return_index=true,return_counts=true)"
   ]
  },
  {
   "cell_type": "code",
   "execution_count": 16,
   "id": "d35862ac",
   "metadata": {},
   "outputs": [
    {
     "data": {
      "text/plain": [
       "array([1, 2, 3, 4, 5, 5, 6, 7, 8])"
      ]
     },
     "execution_count": 16,
     "metadata": {},
     "output_type": "execute_result"
    }
   ],
   "source": [
    "arr=np.array([1,2,3,4,5])\n",
    "arr1=np.array([5,6,7,8])\n",
    "np.hstack((arr,arr1))"
   ]
  },
  {
   "cell_type": "code",
   "execution_count": 19,
   "id": "ae25c6ca",
   "metadata": {},
   "outputs": [
    {
     "data": {
      "text/plain": [
       "array([[ 1,  2,  3,  4,  5],\n",
       "       [ 6,  7,  8,  9, 10]])"
      ]
     },
     "execution_count": 19,
     "metadata": {},
     "output_type": "execute_result"
    }
   ],
   "source": [
    "arr3 = np.array([1,2,3,4,5])\n",
    "arr4 = np.array([6,7,8,9,10])\n",
    "np.vstack((arr3,arr4))"
   ]
  },
  {
   "cell_type": "code",
   "execution_count": 21,
   "id": "6d042fbd",
   "metadata": {},
   "outputs": [
    {
     "data": {
      "text/plain": [
       "array([[ 8,  3, 19, 24, 22, 34],\n",
       "       [10,  4,  7, 33, 47, 28],\n",
       "       [15, 11, 14, 33, 32, 43]])"
      ]
     },
     "execution_count": 21,
     "metadata": {},
     "output_type": "execute_result"
    }
   ],
   "source": [
    "import numpy as np\n",
    "np.random.seed(33)\n",
    "arr1=np.random.randint(1,20,9).reshape(3,3)\n",
    "arr2=np.random.randint(21,50,9).reshape(3,3)\n",
    "np.hstack((arr1,arr2))"
   ]
  },
  {
   "cell_type": "code",
   "execution_count": 22,
   "id": "e88dcd90",
   "metadata": {},
   "outputs": [
    {
     "data": {
      "text/plain": [
       "array([[ 8,  3, 19],\n",
       "       [10,  4,  7],\n",
       "       [15, 11, 14],\n",
       "       [24, 22, 34],\n",
       "       [33, 47, 28],\n",
       "       [33, 32, 43]])"
      ]
     },
     "execution_count": 22,
     "metadata": {},
     "output_type": "execute_result"
    }
   ],
   "source": [
    "np.vstack((arr1,arr2))"
   ]
  },
  {
   "cell_type": "code",
   "execution_count": 2,
   "id": "1df573e1",
   "metadata": {},
   "outputs": [
    {
     "data": {
      "text/plain": [
       "array([13, 18,  1,  5, 14,  1, 15, 18, 13, 12])"
      ]
     },
     "execution_count": 2,
     "metadata": {},
     "output_type": "execute_result"
    }
   ],
   "source": [
    "import numpy as np\n",
    "arr =np.random.randint(1,20,10)\n",
    "arr"
   ]
  },
  {
   "cell_type": "code",
   "execution_count": 3,
   "id": "d6a6b0fc",
   "metadata": {},
   "outputs": [
    {
     "data": {
      "text/plain": [
       "array([10, 11, 12, 13, 14, 15, 16, 17, 18, 19, 20])"
      ]
     },
     "execution_count": 3,
     "metadata": {},
     "output_type": "execute_result"
    }
   ],
   "source": [
    "arr= np.arange(10,21)\n",
    "arr"
   ]
  },
  {
   "cell_type": "code",
   "execution_count": 5,
   "id": "0984ea64",
   "metadata": {},
   "outputs": [
    {
     "data": {
      "text/plain": [
       "array([5., 5., 5., 5., 5., 5., 5., 5., 5., 5.])"
      ]
     },
     "execution_count": 5,
     "metadata": {},
     "output_type": "execute_result"
    }
   ],
   "source": [
    "arr= np.ones(10)*5\n",
    "arr"
   ]
  },
  {
   "cell_type": "code",
   "execution_count": 7,
   "id": "14a4be49",
   "metadata": {},
   "outputs": [
    {
     "data": {
      "text/plain": [
       "array([[1, 2, 3],\n",
       "       [4, 5, 6],\n",
       "       [7, 8, 9]])"
      ]
     },
     "execution_count": 7,
     "metadata": {},
     "output_type": "execute_result"
    }
   ],
   "source": [
    "arr = np.arange(1,10).reshape(3,3)\n",
    "arr"
   ]
  },
  {
   "cell_type": "code",
   "execution_count": 9,
   "id": "ed0183bc",
   "metadata": {},
   "outputs": [
    {
     "data": {
      "text/plain": [
       "array([1, 0, 3, 0, 5, 0, 7, 0, 9, 0])"
      ]
     },
     "execution_count": 9,
     "metadata": {},
     "output_type": "execute_result"
    }
   ],
   "source": [
    "arr=np.arange(1,11)\n",
    "arr[arr%2==0]=0\n",
    "arr"
   ]
  },
  {
   "cell_type": "code",
   "execution_count": 10,
   "id": "f968f20c",
   "metadata": {},
   "outputs": [
    {
     "data": {
      "text/plain": [
       "array([[0.64145736, 0.8558511 , 0.78414382],\n",
       "       [0.51896716, 0.1558866 , 0.6807246 ],\n",
       "       [0.52601597, 0.64848076, 0.1122765 ]])"
      ]
     },
     "execution_count": 10,
     "metadata": {},
     "output_type": "execute_result"
    }
   ],
   "source": [
    "arr=np.random.rand(9).reshape(3,3)\n",
    "arr"
   ]
  },
  {
   "cell_type": "code",
   "execution_count": 15,
   "id": "22bc1591",
   "metadata": {},
   "outputs": [
    {
     "ename": "TypeError",
     "evalue": "_vhstack_dispatcher() takes 1 positional argument but 2 were given",
     "output_type": "error",
     "traceback": [
      "\u001b[1;31m---------------------------------------------------------------------------\u001b[0m",
      "\u001b[1;31mTypeError\u001b[0m                                 Traceback (most recent call last)",
      "Input \u001b[1;32mIn [15]\u001b[0m, in \u001b[0;36m<cell line: 4>\u001b[1;34m()\u001b[0m\n\u001b[0;32m      2\u001b[0m arr\u001b[38;5;241m=\u001b[39mnp\u001b[38;5;241m.\u001b[39marange(\u001b[38;5;241m1\u001b[39m,\u001b[38;5;241m10\u001b[39m)\u001b[38;5;241m.\u001b[39mreshape(\u001b[38;5;241m3\u001b[39m,\u001b[38;5;241m3\u001b[39m)\n\u001b[0;32m      3\u001b[0m arr1\u001b[38;5;241m=\u001b[39mnp\u001b[38;5;241m.\u001b[39marange(\u001b[38;5;241m10\u001b[39m,\u001b[38;5;241m19\u001b[39m)\u001b[38;5;241m.\u001b[39mreshape(\u001b[38;5;241m3\u001b[39m,\u001b[38;5;241m3\u001b[39m)\n\u001b[1;32m----> 4\u001b[0m \u001b[43mnp\u001b[49m\u001b[38;5;241;43m.\u001b[39;49m\u001b[43mhstack\u001b[49m\u001b[43m(\u001b[49m\u001b[43marr\u001b[49m\u001b[43m,\u001b[49m\u001b[43marr1\u001b[49m\u001b[43m)\u001b[49m\n",
      "File \u001b[1;32m<__array_function__ internals>:4\u001b[0m, in \u001b[0;36mhstack\u001b[1;34m(*args, **kwargs)\u001b[0m\n",
      "\u001b[1;31mTypeError\u001b[0m: _vhstack_dispatcher() takes 1 positional argument but 2 were given"
     ]
    }
   ],
   "source": [
    "import numpy as np\n",
    "arr=np.arange(1,10).reshape(3,3)\n",
    "arr1=np.arange(10,19).reshape(3,3)\n",
    "np.hstack(arr,arr1)"
   ]
  },
  {
   "cell_type": "code",
   "execution_count": 2,
   "id": "9d936d89",
   "metadata": {},
   "outputs": [
    {
     "name": "stdout",
     "output_type": "stream",
     "text": [
      "(array([6], dtype=int64),)\n"
     ]
    }
   ],
   "source": [
    "import numpy as np\n",
    "arr=np.array([10,20,30,50,60,70,80,90,100])\n",
    "x=np.where(arr==80)\n",
    "print(x)"
   ]
  },
  {
   "cell_type": "code",
   "execution_count": 3,
   "id": "fcb0e486",
   "metadata": {},
   "outputs": [
    {
     "name": "stdout",
     "output_type": "stream",
     "text": [
      "(array([8], dtype=int64),)\n"
     ]
    }
   ],
   "source": [
    "x=np.where(arr==100)\n",
    "print(x)"
   ]
  },
  {
   "cell_type": "code",
   "execution_count": 4,
   "id": "4ceb77ac",
   "metadata": {},
   "outputs": [
    {
     "name": "stdout",
     "output_type": "stream",
     "text": [
      "(array([2], dtype=int64),)\n"
     ]
    }
   ],
   "source": [
    "x=np.where(arr==30)\n",
    "print(x)"
   ]
  },
  {
   "cell_type": "code",
   "execution_count": 6,
   "id": "b922cec4",
   "metadata": {},
   "outputs": [
    {
     "name": "stdout",
     "output_type": "stream",
     "text": [
      "(array([3], dtype=int64),)\n"
     ]
    }
   ],
   "source": [
    "x=np.where(arr==50)\n",
    "print(x)"
   ]
  },
  {
   "cell_type": "code",
   "execution_count": 8,
   "id": "be81e6de",
   "metadata": {},
   "outputs": [
    {
     "name": "stdout",
     "output_type": "stream",
     "text": [
      "(array([0, 1, 2, 3, 4, 5, 6, 7, 8], dtype=int64),)\n"
     ]
    }
   ],
   "source": [
    "odd=np.where(arr%2==0)\n",
    "print(odd)"
   ]
  },
  {
   "cell_type": "code",
   "execution_count": 13,
   "id": "742ab219",
   "metadata": {},
   "outputs": [
    {
     "name": "stdout",
     "output_type": "stream",
     "text": [
      "find number= (array([3], dtype=int64),)\n",
      "odd index numbers= (array([0, 4, 5], dtype=int64),)\n",
      "even index numbers= (array([1, 2, 3], dtype=int64),)\n",
      "number in indexing= 1\n"
     ]
    }
   ],
   "source": [
    "arr1=np.array([10,25,23,45,68,40])\n",
    "x=np.where(arr1==45)\n",
    "print(\"find number=\",x)\n",
    "y=np.where(arr1%2==0)\n",
    "print(\"odd index numbers=\",y)\n",
    "z=np.where (arr1%2 != 0)\n",
    "print(\"even index numbers=\",z)\n",
    "a=np.searchsorted(arr1,15)\n",
    "print(\"number in indexing=\",a)"
   ]
  },
  {
   "cell_type": "code",
   "execution_count": 26,
   "id": "ae2d0fd8",
   "metadata": {},
   "outputs": [
    {
     "name": "stdout",
     "output_type": "stream",
     "text": [
      "find value after search= (array([], dtype=int64),)\n",
      "odd indexing number= (array([0], dtype=int64),)\n",
      "even indexing number= (array([1, 2, 3, 4, 5], dtype=int64),)\n",
      "find indexing value given this condstion= 4\n"
     ]
    },
    {
     "data": {
      "text/plain": [
       "array([4, 7, 7, 1, 9, 5])"
      ]
     },
     "execution_count": 26,
     "metadata": {},
     "output_type": "execute_result"
    }
   ],
   "source": [
    "import numpy as np\n",
    "np.random.seed(5)\n",
    "z=np.random.randint(1,10,6)\n",
    "x=np.where(z==8)\n",
    "print(\"find value after search=\",x)\n",
    "y=np.where(z%2==0)\n",
    "print(\"odd indexing number=\",y)\n",
    "k=np.where(z%2 != 0)\n",
    "print(\"even indexing number=\",k)\n",
    "l=np.searchsorted(z,4,side = 'right')\n",
    "print(\"find indexing value given this condstion=\",l)\n",
    "z"
   ]
  },
  {
   "cell_type": "code",
   "execution_count": 25,
   "id": "3c64a9f7",
   "metadata": {},
   "outputs": [
    {
     "name": "stdout",
     "output_type": "stream",
     "text": [
      "4\n"
     ]
    }
   ],
   "source": [
    "x=np.searchsorted(z,5)\n",
    "print(x)"
   ]
  },
  {
   "cell_type": "code",
   "execution_count": 1,
   "id": "e0d28bae",
   "metadata": {},
   "outputs": [
    {
     "name": "stdout",
     "output_type": "stream",
     "text": [
      "20\n"
     ]
    }
   ],
   "source": [
    "x=lambda a:a+15\n",
    "print(x(5))"
   ]
  },
  {
   "cell_type": "code",
   "execution_count": 2,
   "id": "a3b656b7",
   "metadata": {},
   "outputs": [
    {
     "name": "stdout",
     "output_type": "stream",
     "text": [
      "7\n"
     ]
    }
   ],
   "source": [
    "x=lambda a,b:a+b\n",
    "print(x(3,4))"
   ]
  },
  {
   "cell_type": "code",
   "execution_count": 3,
   "id": "710b75e9",
   "metadata": {},
   "outputs": [
    {
     "name": "stdout",
     "output_type": "stream",
     "text": [
      "18\n"
     ]
    }
   ],
   "source": [
    "x=lambda a,b,c:a+b+c\n",
    "print(x(5,6,7))"
   ]
  },
  {
   "cell_type": "code",
   "execution_count": 4,
   "id": "6c1e75ff",
   "metadata": {},
   "outputs": [
    {
     "ename": "SyntaxError",
     "evalue": "invalid syntax (2454900489.py, line 2)",
     "output_type": "error",
     "traceback": [
      "\u001b[1;36m  Input \u001b[1;32mIn [4]\u001b[1;36m\u001b[0m\n\u001b[1;33m    def my love ():\u001b[0m\n\u001b[1;37m           ^\u001b[0m\n\u001b[1;31mSyntaxError\u001b[0m\u001b[1;31m:\u001b[0m invalid syntax\n"
     ]
    }
   ],
   "source": [
    "x=[5,10,15,20,25,30,35,40]\n",
    "def my love ():\n",
    "    if x < 18 :\n",
    "        return False\n",
    "    else:\n",
    "        return True\n",
    "    adults = list(filter(my love,x))\n",
    "    for x in adults:\n",
    "        print(x)"
   ]
  },
  {
   "cell_type": "code",
   "execution_count": 16,
   "id": "a4b0b76d",
   "metadata": {},
   "outputs": [
    {
     "name": "stdout",
     "output_type": "stream",
     "text": [
      "[361, 400, 484, 576]\n"
     ]
    }
   ],
   "source": [
    "a=[5,12,14,16,17,19,20,22,24]\n",
    "adults=filter(lambda a:a>18,a)\n",
    "sequre=list(map(lambda a:a*a,adults))\n",
    "print(sequre)"
   ]
  },
  {
   "cell_type": "code",
   "execution_count": 15,
   "id": "a830ffaa",
   "metadata": {},
   "outputs": [
    {
     "name": "stdout",
     "output_type": "stream",
     "text": [
      "[25, 49, 64, 81, 225, 324, 361, 400]\n"
     ]
    }
   ],
   "source": [
    "a1=[5,7,8,9,15,18,19,20]\n",
    "sex=filter(lambda a1:a1>18,a1)\n",
    "sequre=list(map(lambda a1:a1*a1,a1))\n",
    "print(sequre)"
   ]
  },
  {
   "cell_type": "code",
   "execution_count": 13,
   "id": "eafc04da",
   "metadata": {},
   "outputs": [
    {
     "name": "stdout",
     "output_type": "stream",
     "text": [
      "[144, 196, 256, 256, 324, 400, 484, 576]\n"
     ]
    }
   ],
   "source": [
    "z=[12,14,16,16,18,20,22,24]\n",
    "sex=filter(lambda z:z>10,z)\n",
    "sequre=list(map(lambda z:z*z,z))\n",
    "print(sequre)"
   ]
  },
  {
   "cell_type": "code",
   "execution_count": null,
   "id": "3211a8a4",
   "metadata": {},
   "outputs": [],
   "source": []
  },
  {
   "cell_type": "code",
   "execution_count": null,
   "id": "3bebe268",
   "metadata": {},
   "outputs": [],
   "source": []
  },
  {
   "cell_type": "code",
   "execution_count": null,
   "id": "19a50d82",
   "metadata": {},
   "outputs": [],
   "source": []
  },
  {
   "cell_type": "code",
   "execution_count": null,
   "id": "2dc0f3d0",
   "metadata": {},
   "outputs": [],
   "source": []
  },
  {
   "cell_type": "code",
   "execution_count": 18,
   "id": "1a3d351f",
   "metadata": {},
   "outputs": [
    {
     "name": "stdout",
     "output_type": "stream",
     "text": [
      "addition= 15\n"
     ]
    }
   ],
   "source": [
    "from functools import reduce\n",
    "val=[1,2,3,4,5]\n",
    "add=reduce (lambda a,b:a+b,val)\n",
    "print(\"addition=\",add)"
   ]
  },
  {
   "cell_type": "code",
   "execution_count": 21,
   "id": "b29e11f4",
   "metadata": {},
   "outputs": [
    {
     "name": "stdout",
     "output_type": "stream",
     "text": [
      "45\n"
     ]
    }
   ],
   "source": [
    "from functools import reduce\n",
    "\n",
    "val=[5,6,7,8,9,10]\n",
    "add = reduce (lambda a,b:a+b,val)\n",
    "print(add)"
   ]
  },
  {
   "cell_type": "code",
   "execution_count": 22,
   "id": "4caf1cd2",
   "metadata": {},
   "outputs": [
    {
     "name": "stdout",
     "output_type": "stream",
     "text": [
      "91\n"
     ]
    }
   ],
   "source": [
    "from functools import reduce\n",
    "val =[10,11,12,13,14,15,16]\n",
    "add=reduce(lambda a,b:a+b,val)\n",
    "print(add)"
   ]
  },
  {
   "cell_type": "code",
   "execution_count": 23,
   "id": "4962e0e3",
   "metadata": {},
   "outputs": [
    {
     "name": "stdout",
     "output_type": "stream",
     "text": [
      "15489\n"
     ]
    }
   ],
   "source": [
    "from functools import reduce\n",
    "val=[12,222,2345,12343,567]\n",
    "add=reduce(lambda a,b:a+b,val)\n",
    "print(add)"
   ]
  },
  {
   "cell_type": "code",
   "execution_count": 24,
   "id": "b98fb836",
   "metadata": {},
   "outputs": [
    {
     "name": "stdout",
     "output_type": "stream",
     "text": [
      "16120\n"
     ]
    }
   ],
   "source": [
    "from functools import reduce\n",
    "z=[111,222,333,444,555,6666,7789]\n",
    "add=reduce(lambda a,b:a+b,z)\n",
    "print(add)"
   ]
  },
  {
   "cell_type": "code",
   "execution_count": null,
   "id": "60106954",
   "metadata": {},
   "outputs": [],
   "source": []
  },
  {
   "cell_type": "code",
   "execution_count": null,
   "id": "0b8f29a0",
   "metadata": {},
   "outputs": [],
   "source": []
  },
  {
   "cell_type": "code",
   "execution_count": null,
   "id": "4683e6f5",
   "metadata": {},
   "outputs": [],
   "source": []
  },
  {
   "cell_type": "code",
   "execution_count": null,
   "id": "f6e15175",
   "metadata": {},
   "outputs": [],
   "source": []
  },
  {
   "cell_type": "code",
   "execution_count": null,
   "id": "6fb593bf",
   "metadata": {},
   "outputs": [],
   "source": []
  },
  {
   "cell_type": "code",
   "execution_count": null,
   "id": "0bce5336",
   "metadata": {},
   "outputs": [],
   "source": []
  },
  {
   "cell_type": "code",
   "execution_count": null,
   "id": "60a2403e",
   "metadata": {},
   "outputs": [],
   "source": []
  },
  {
   "cell_type": "code",
   "execution_count": null,
   "id": "ee4f5732",
   "metadata": {},
   "outputs": [],
   "source": []
  },
  {
   "cell_type": "code",
   "execution_count": null,
   "id": "8e93aa6a",
   "metadata": {},
   "outputs": [],
   "source": []
  },
  {
   "cell_type": "code",
   "execution_count": null,
   "id": "ee08bd36",
   "metadata": {},
   "outputs": [],
   "source": []
  },
  {
   "cell_type": "code",
   "execution_count": 26,
   "id": "1058da32",
   "metadata": {},
   "outputs": [
    {
     "name": "stdout",
     "output_type": "stream",
     "text": [
      "10\n"
     ]
    }
   ],
   "source": [
    "from functools import reduce\n",
    "z=[1,2,3,4,5,6,7,8,9,10]\n",
    "max=reduce(lambda a,b:a if a>b else b,z)\n",
    "print(max)"
   ]
  },
  {
   "cell_type": "code",
   "execution_count": 28,
   "id": "22964202",
   "metadata": {},
   "outputs": [
    {
     "name": "stdout",
     "output_type": "stream",
     "text": [
      "3456\n"
     ]
    }
   ],
   "source": [
    "from functools import reduce\n",
    "z1=[12,34,12,465,2345,1234,3456]\n",
    "add= reduce(lambda a,b: a if a>b else b,z1)\n",
    "print(add)"
   ]
  },
  {
   "cell_type": "code",
   "execution_count": 29,
   "id": "fb8bed7f",
   "metadata": {},
   "outputs": [
    {
     "name": "stdout",
     "output_type": "stream",
     "text": [
      "100\n"
     ]
    }
   ],
   "source": [
    "from functools import reduce\n",
    "x=[12,23,34,56,78,90,100]\n",
    "add=reduce(lambda a,b: a if a>b else b,x)\n",
    "print(add)"
   ]
  },
  {
   "cell_type": "code",
   "execution_count": 30,
   "id": "9ca8ce33",
   "metadata": {},
   "outputs": [
    {
     "name": "stdout",
     "output_type": "stream",
     "text": [
      "10001\n"
     ]
    }
   ],
   "source": [
    "from functools import reduce\n",
    "y=[111,222,333,444,555,666,777,999,1000,10001]\n",
    "add=reduce(lambda a,b: a if a>b else b,y)\n",
    "print(add)"
   ]
  },
  {
   "cell_type": "code",
   "execution_count": 31,
   "id": "e8014e40",
   "metadata": {},
   "outputs": [
    {
     "name": "stdout",
     "output_type": "stream",
     "text": [
      "890\n"
     ]
    }
   ],
   "source": [
    "from functools import reduce\n",
    "p=[890,234,456,789,456,567]\n",
    "add=reduce(lambda a,b: a if a>b else b,p)\n",
    "print(add)"
   ]
  },
  {
   "cell_type": "code",
   "execution_count": null,
   "id": "d8327478",
   "metadata": {},
   "outputs": [],
   "source": []
  }
 ],
 "metadata": {
  "kernelspec": {
   "display_name": "Python 3 (ipykernel)",
   "language": "python",
   "name": "python3"
  },
  "language_info": {
   "codemirror_mode": {
    "name": "ipython",
    "version": 3
   },
   "file_extension": ".py",
   "mimetype": "text/x-python",
   "name": "python",
   "nbconvert_exporter": "python",
   "pygments_lexer": "ipython3",
   "version": "3.9.12"
  }
 },
 "nbformat": 4,
 "nbformat_minor": 5
}
